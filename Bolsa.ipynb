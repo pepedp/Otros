{
  "nbformat": 4,
  "nbformat_minor": 0,
  "metadata": {
    "colab": {
      "name": "Bolsa.ipynb",
      "provenance": [],
      "collapsed_sections": [],
      "authorship_tag": "ABX9TyNGR+P3T0aYR4b1+g2gl0zD",
      "include_colab_link": true
    },
    "kernelspec": {
      "name": "python3",
      "display_name": "Python 3"
    },
    "accelerator": "GPU"
  },
  "cells": [
    {
      "cell_type": "markdown",
      "metadata": {
        "id": "view-in-github",
        "colab_type": "text"
      },
      "source": [
        "<a href=\"https://colab.research.google.com/github/pepedp/COVID-19/blob/master/Bolsa.ipynb\" target=\"_parent\"><img src=\"https://colab.research.google.com/assets/colab-badge.svg\" alt=\"Open In Colab\"/></a>"
      ]
    },
    {
      "cell_type": "code",
      "metadata": {
        "id": "BSyW13KdvGpd",
        "colab_type": "code",
        "colab": {
          "base_uri": "https://localhost:8080/",
          "height": 72
        },
        "outputId": "ebcb6cd6-2ea6-4cb6-9d2a-3707d1befdc0"
      },
      "source": [
        "#Importación de las librerías\n",
        "import numpy as np\n",
        "import pandas as pd\n",
        "import matplotlib.pyplot as plt\n",
        "import pandas_datareader as data_reader"
      ],
      "execution_count": 1,
      "outputs": [
        {
          "output_type": "stream",
          "text": [
            "/usr/local/lib/python3.6/dist-packages/pandas_datareader/compat/__init__.py:7: FutureWarning: pandas.util.testing is deprecated. Use the functions in the public API at pandas.testing instead.\n",
            "  from pandas.util.testing import assert_frame_equal\n"
          ],
          "name": "stderr"
        }
      ]
    },
    {
      "cell_type": "code",
      "metadata": {
        "id": "v72h39tewLiL",
        "colab_type": "code",
        "colab": {
          "base_uri": "https://localhost:8080/",
          "height": 230
        },
        "outputId": "92eea2c2-e2a9-453b-98f7-54035af7b512"
      },
      "source": [
        "#Importar el dataset de entrenamiento\n",
        "fecha_final_train = \"2020-06-30\" #@param {type:\"date\"}\n",
        "fecha_inicio_test = \"2020-07-01\" #@param {type:\"date\"}\n",
        "stock_name = \"GC=F\" #@param {type:\"string\"}\n",
        "\n",
        "dataset_original  = data_reader.DataReader(stock_name, data_source=\"yahoo\")\n",
        "dataset_train_original = dataset_original[:fecha_final_train]\n",
        "data_train  = dataset_train_original.iloc[:, 2:3].values #Salida un array \n",
        "x=dataset_train_original.index.values\n",
        "dataset_train_original.tail()"
      ],
      "execution_count": 6,
      "outputs": [
        {
          "output_type": "execute_result",
          "data": {
            "text/html": [
              "<div>\n",
              "<style scoped>\n",
              "    .dataframe tbody tr th:only-of-type {\n",
              "        vertical-align: middle;\n",
              "    }\n",
              "\n",
              "    .dataframe tbody tr th {\n",
              "        vertical-align: top;\n",
              "    }\n",
              "\n",
              "    .dataframe thead th {\n",
              "        text-align: right;\n",
              "    }\n",
              "</style>\n",
              "<table border=\"1\" class=\"dataframe\">\n",
              "  <thead>\n",
              "    <tr style=\"text-align: right;\">\n",
              "      <th></th>\n",
              "      <th>High</th>\n",
              "      <th>Low</th>\n",
              "      <th>Open</th>\n",
              "      <th>Close</th>\n",
              "      <th>Volume</th>\n",
              "      <th>Adj Close</th>\n",
              "    </tr>\n",
              "    <tr>\n",
              "      <th>Date</th>\n",
              "      <th></th>\n",
              "      <th></th>\n",
              "      <th></th>\n",
              "      <th></th>\n",
              "      <th></th>\n",
              "      <th></th>\n",
              "    </tr>\n",
              "  </thead>\n",
              "  <tbody>\n",
              "    <tr>\n",
              "      <th>2020-06-25</th>\n",
              "      <td>1764.800049</td>\n",
              "      <td>1759.800049</td>\n",
              "      <td>1761.699951</td>\n",
              "      <td>1762.099976</td>\n",
              "      <td>207.0</td>\n",
              "      <td>1762.099976</td>\n",
              "    </tr>\n",
              "    <tr>\n",
              "      <th>2020-06-26</th>\n",
              "      <td>1772.500000</td>\n",
              "      <td>1764.699951</td>\n",
              "      <td>1766.000000</td>\n",
              "      <td>1772.500000</td>\n",
              "      <td>640.0</td>\n",
              "      <td>1772.500000</td>\n",
              "    </tr>\n",
              "    <tr>\n",
              "      <th>2020-06-28</th>\n",
              "      <td>1790.400024</td>\n",
              "      <td>1785.000000</td>\n",
              "      <td>1789.199951</td>\n",
              "      <td>1785.300049</td>\n",
              "      <td>500645.0</td>\n",
              "      <td>1785.300049</td>\n",
              "    </tr>\n",
              "    <tr>\n",
              "      <th>2020-06-29</th>\n",
              "      <td>1780.199951</td>\n",
              "      <td>1774.300049</td>\n",
              "      <td>1779.800049</td>\n",
              "      <td>1774.800049</td>\n",
              "      <td>584.0</td>\n",
              "      <td>1774.800049</td>\n",
              "    </tr>\n",
              "    <tr>\n",
              "      <th>2020-06-30</th>\n",
              "      <td>1793.199951</td>\n",
              "      <td>1774.400024</td>\n",
              "      <td>1777.300049</td>\n",
              "      <td>1793.000000</td>\n",
              "      <td>986.0</td>\n",
              "      <td>1793.000000</td>\n",
              "    </tr>\n",
              "  </tbody>\n",
              "</table>\n",
              "</div>"
            ],
            "text/plain": [
              "                   High          Low  ...    Volume    Adj Close\n",
              "Date                                  ...                       \n",
              "2020-06-25  1764.800049  1759.800049  ...     207.0  1762.099976\n",
              "2020-06-26  1772.500000  1764.699951  ...     640.0  1772.500000\n",
              "2020-06-28  1790.400024  1785.000000  ...  500645.0  1785.300049\n",
              "2020-06-29  1780.199951  1774.300049  ...     584.0  1774.800049\n",
              "2020-06-30  1793.199951  1774.400024  ...     986.0  1793.000000\n",
              "\n",
              "[5 rows x 6 columns]"
            ]
          },
          "metadata": {
            "tags": []
          },
          "execution_count": 6
        }
      ]
    },
    {
      "cell_type": "code",
      "metadata": {
        "id": "b68Hndb0vKAT",
        "colab_type": "code",
        "colab": {}
      },
      "source": [
        "#GRAFICO DE DATOS ENTRENAMIENTO\n",
        "x=dataset_train_original.index.values\n",
        "plt.figure(figsize=(16, 6), dpi=80,facecolor=\"orange\")\n",
        "plt.grid()\n",
        "plt.title(\"Datos de Entrenamiento: Acciones de {}\".format(stock_name) )\n",
        "plt.plot(x,data_train)"
      ],
      "execution_count": null,
      "outputs": []
    },
    {
      "cell_type": "code",
      "metadata": {
        "id": "TlvvDCC4vPAo",
        "colab_type": "code",
        "colab": {}
      },
      "source": [
        "#Escalado de características\n",
        "from sklearn.preprocessing import MinMaxScaler\n",
        "var_escalado = MinMaxScaler(feature_range = (0, 1)) #minimo sera 0 el maximo 1\n",
        "data_train_escalado = var_escalado.fit_transform(data_train)\n",
        "\n",
        "#GRAFICA\n",
        "plt.figure(figsize=(16, 6), dpi=80,facecolor=\"orange\")\n",
        "plt.grid()\n",
        "plt.title(\"Datos de Entrenamiento Escalados: Acciones de {}\".format(stock_name) )\n",
        "plt.plot(x,data_train_escalado)"
      ],
      "execution_count": null,
      "outputs": []
    },
    {
      "cell_type": "code",
      "metadata": {
        "id": "xpfY1i9fvRV7",
        "colab_type": "code",
        "colab": {}
      },
      "source": [
        "#Crear una estructura de datos con 60 timesteps y 1 salida\n",
        "#Definicion de variables \n",
        "x_train = []\n",
        "y_train = []\n",
        "valor_i = []\n",
        "valores_previos = 60 #un trimestre 20 dias habiles al mes (Dias financieros) \n",
        "\n",
        "for i in range(valores_previos, len(x)):\n",
        "    valor_i.append(i) #tamaño del array = (len(x)-60)\n",
        "    x_train.append(data_train_escalado[i-valores_previos:i, 0])\n",
        "    y_train.append(data_train_escalado[i, 0])\n",
        "x_train, y_train = np.array(x_train), np.array(y_train)"
      ],
      "execution_count": 9,
      "outputs": []
    },
    {
      "cell_type": "code",
      "metadata": {
        "id": "7j8cABgH0x1u",
        "colab_type": "code",
        "colab": {}
      },
      "source": [
        "print(\"{} Valores previos para predecir (Memoria de la RNR LTSM): \\n{}\".format(\n",
        "    valores_previos,\n",
        "    x_train[0:2]) )\n",
        "print(\"\\ny = {}\".format(y_train[0:2]) )"
      ],
      "execution_count": null,
      "outputs": []
    },
    {
      "cell_type": "code",
      "metadata": {
        "id": "J3F6u8kIvUKe",
        "colab_type": "code",
        "colab": {
          "base_uri": "https://localhost:8080/",
          "height": 34
        },
        "outputId": "3b7494ac-dadc-4f64-a192-f902fa4a4f1f"
      },
      "source": [
        "#opcional Agregar variables predictoras (Agregar dimensión)\n",
        "#Agregar una dimensiones extra (profundidad) para pode agregar otras acciones que impacten a la predicción  \n",
        "#Redimensionar x_train de una matriz (filas, columnas) a una matriz (filas, columnas, columna[0])\n",
        "numero_filas = x_train.shape[0]\n",
        "numero_colmunas = x_train.shape[1]\n",
        "x_train_rnn = np.reshape(x_train, (numero_filas, numero_colmunas,1) )\n",
        "print(\"Dimiension matriz: {} \".format(x_train_rnn.shape) )"
      ],
      "execution_count": 12,
      "outputs": [
        {
          "output_type": "stream",
          "text": [
            "Dimiension matriz: (1228, 60, 1) \n"
          ],
          "name": "stdout"
        }
      ]
    },
    {
      "cell_type": "markdown",
      "metadata": {
        "id": "oOLFDTEovcl0",
        "colab_type": "text"
      },
      "source": [
        "Contruccion de la RNN"
      ]
    },
    {
      "cell_type": "code",
      "metadata": {
        "id": "rCrIh80WvWjl",
        "colab_type": "code",
        "colab": {}
      },
      "source": [
        "#Construcción de la RNR\n",
        "from keras.models import Sequential\n",
        "from keras.layers import Dense, LSTM, Dropout\n",
        "\n",
        "#Inicialización del modelo\n",
        "modelo = Sequential()\n",
        "neuronas = 250\n",
        "droput=0.2\n",
        "#Añadir la primera capa de LSTM y la regulariación por Dropout\n",
        "modelo.add(LSTM(units = neuronas, return_sequences = True, input_shape = (x_train_rnn.shape[1], 1) ))\n",
        "modelo.add(Dropout(droput)) #Usualmenete se usa 0.1 o 0.2 en una red LSTM\n",
        "\n",
        "#Segunda capa de LSTM y la regulariación por Dropout\n",
        "#Dropou para evitar overfitting\n",
        "modelo.add(LSTM(units = neuronas, return_sequences = True ))\n",
        "modelo.add(Dropout(droput))  \n",
        "\n",
        "#Tercera capa de LSTM y la regulariación por Dropout\n",
        "modelo.add(LSTM(units = neuronas, return_sequences = True ))\n",
        "modelo.add(Dropout(droput))\n",
        "\n",
        "#Cuarta capa de LSTM y la regulariación por Dropout\n",
        "modelo.add(LSTM(units = neuronas))\n",
        "modelo.add(Dropout(droput))\n",
        "\n",
        "\n",
        "#Capa de salida\n",
        "modelo.add(Dense(units = 1))\n",
        "\n",
        "#Compilar la RNR\n",
        "modelo.compile(optimizer = 'adam', loss = 'mean_squared_error')"
      ],
      "execution_count": 33,
      "outputs": []
    },
    {
      "cell_type": "code",
      "metadata": {
        "id": "xdwUQC9Kvn7Y",
        "colab_type": "code",
        "colab": {}
      },
      "source": [
        "#NTRENAR LA RED NEURONAL\n",
        "# Ajustar la RNR al conjunto de entrenamiento\n",
        "entrenamientos = 100\n",
        "print(\"Inicio proceso de entrenamiento\")\n",
        "modelo.fit(x_train_rnn, y_train, epochs = entrenamientos, batch_size = 32,verbose=True)\n",
        "print(\"Fin proceso de entrenamiento\")\n"
      ],
      "execution_count": null,
      "outputs": []
    },
    {
      "cell_type": "code",
      "metadata": {
        "id": "qB1zx4_XvzIj",
        "colab_type": "code",
        "colab": {}
      },
      "source": [
        "#PREDICCIONES\n",
        "#Obtener el valor de las acciones reales  de Enero de 2017\n",
        "#dataset_test = pd.read_csv('Google_Stock_Price_Test.csv')\n",
        "dataset_test = dataset_original[fecha_inicio_test:]\n",
        "real_stock_price = dataset_test.iloc[:, 2:3].values"
      ],
      "execution_count": 28,
      "outputs": []
    },
    {
      "cell_type": "code",
      "metadata": {
        "id": "wpSUFP2HjszT",
        "colab_type": "code",
        "colab": {}
      },
      "source": [
        "dataset_test.head(50)"
      ],
      "execution_count": null,
      "outputs": []
    },
    {
      "cell_type": "code",
      "metadata": {
        "id": "PRyyoxrqv5Ou",
        "colab_type": "code",
        "colab": {}
      },
      "source": [
        "#Obtener la predicción de la acción con la RNR para Enero de 2017\n",
        "dataset_total = pd.concat((dataset_train_original['Open'], dataset_test['Open']), axis = 0)\n",
        "inputs = dataset_total[len(dataset_total) - len(dataset_test) - 60:].values #Limites inferior -60\n",
        "inputs = inputs.reshape(-1,1)\n",
        "inputs = var_escalado.transform(inputs)\n",
        "X_test = []\n",
        "\n",
        "for i in range(60, len(inputs)):\n",
        "    X_test.append(inputs[i-60:i, 0])\n",
        "X_test = np.array(X_test)\n",
        "X_test = np.reshape(X_test, (X_test.shape[0], X_test.shape[1], 1) )\n",
        "\n",
        "predicted_stock_price = modelo.predict(X_test)\n",
        "predicted_stock_price = var_escalado.inverse_transform(predicted_stock_price)"
      ],
      "execution_count": 35,
      "outputs": []
    },
    {
      "cell_type": "code",
      "metadata": {
        "id": "pvYlKt_eUKs1",
        "colab_type": "code",
        "colab": {
          "base_uri": "https://localhost:8080/",
          "height": 500
        },
        "outputId": "22c450ba-38ca-4952-abf4-5b457ec128c5"
      },
      "source": [
        "#Visualizar los Resultados\n",
        "plt.figure(figsize=(18, 8), dpi=80,facecolor=\"orange\")\n",
        "plt.plot(real_stock_price, color = 'blue', label = 'Precio Real ')\n",
        "plt.plot(predicted_stock_price, color = 'Orange', label = 'Precio Prediccion')\n",
        "\n",
        "plt.grid()\n",
        "plt.title(\"Resultados del test\")\n",
        "plt.xlabel(\"dias\")\n",
        "plt.ylabel(\"Precio de la accion\")\n",
        "plt.legend()\n",
        "plt.show()"
      ],
      "execution_count": 36,
      "outputs": [
        {
          "output_type": "display_data",
          "data": {
            "image/png": "[encoded data removed]",
            "text/plain": [
              "<Figure size 1440x640 with 1 Axes>"
            ]
          },
          "metadata": {
            "tags": []
          }
        }
      ]
    },
    {
      "cell_type": "code",
      "metadata": {
        "id": "ZFnn03o-23OA",
        "colab_type": "code",
        "colab": {
          "base_uri": "https://localhost:8080/",
          "height": 35
        },
        "outputId": "6c7d66fe-fe58-4281-b956-ed7e99768131"
      },
      "source": [
        ""
      ],
      "execution_count": null,
      "outputs": [
        {
          "output_type": "execute_result",
          "data": {
            "text/plain": [
              "<bound method Model.evaluate of <tensorflow.python.keras.engine.sequential.Sequential object at 0x7f34de968550>>"
            ]
          },
          "metadata": {
            "tags": []
          },
          "execution_count": 131
        }
      ]
    }
  ]
}