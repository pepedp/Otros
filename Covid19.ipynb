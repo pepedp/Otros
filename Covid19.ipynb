{
  "nbformat": 4,
  "nbformat_minor": 0,
  "metadata": {
    "colab": {
      "name": "Covid19.ipynb",
      "provenance": [],
      "collapsed_sections": [
        "rIjVLg33ORzS",
        "r_9NP-JKOcxf",
        "ivUdy4XEG2l9"
      ],
      "include_colab_link": true
    },
    "kernelspec": {
      "name": "python3",
      "display_name": "Python 3"
    }
  },
  "cells": [
    {
      "cell_type": "markdown",
      "metadata": {
        "id": "view-in-github",
        "colab_type": "text"
      },
      "source": [
        "<a href=\"https://colab.research.google.com/github/pepedp/COVID-19/blob/master/Covid19.ipynb\" target=\"_parent\"><img src=\"https://colab.research.google.com/assets/colab-badge.svg\" alt=\"Open In Colab\"/></a>"
      ]
    },
    {
      "cell_type": "markdown",
      "metadata": {
        "id": "U1Y0KtPCPtEE",
        "colab_type": "text"
      },
      "source": [
        "# Covid-19 ![texto alternativo](https://www.acshoco.org/wp-content/uploads/2020/03/COVID-19.png)"
      ]
    },
    {
      "cell_type": "markdown",
      "metadata": {
        "id": "xV6m3_w2Ozq6",
        "colab_type": "text"
      },
      "source": [
        "# **INICIO**\n"
      ]
    },
    {
      "cell_type": "code",
      "metadata": {
        "id": "iUNH5uYub2XN",
        "colab_type": "code",
        "cellView": "form",
        "colab": {}
      },
      "source": [
        "#@title INICIO\n",
        "#LIBRERIRAS \n",
        "import pandas as pd\n",
        "import math\n",
        "import numpy as np\n",
        "import math\n",
        "import matplotlib.pyplot as plt\n",
        "from google.cloud import bigquery\n",
        "import scipy.integrate \n",
        "%matplotlib inline \n",
        " \n",
        "#FUNCION PARA DETERMINAR LOS DIAS A PRONOSTICAR  \n",
        "def dias_predecir(dias):\n",
        "  from datetime import datetime \n",
        "  diferencia=datetime.today()-datetime.strptime(fecha_fin, '%Y-%m-%d')\n",
        "  diferencia.days\n",
        "  i=0\n",
        "  semana=[]\n",
        "  dia=0\n",
        "  if (Exponencial):\n",
        "    dia = dataset.index.get_loc(dataset.last_valid_index()-diferencia.days+1)\n",
        "    for i in range(0,dias+diferencia.days):\n",
        "      semana.append(dia+i)    \n",
        "      i+=i\n",
        "  else:\n",
        "    dia = dataset.index.get_loc(dataset.last_valid_index() )\n",
        "    for i in range(0,dias):\n",
        "      semana.append(dia+i)    \n",
        "      i+=i\n",
        "  return semana\n",
        " \n",
        "#FUNCION VELOCIDAD, ACELERACION E INDICE DE CRECIMIENTO\n",
        "def vel_crecimiento(horas=24):\n",
        "  j=0\n",
        "  velocidad=[]\n",
        "  aceleracion=[]\n",
        "  indice_crecimiento=[]\n",
        "  indice_activos=[]\n",
        "  fin = dataset.index.get_loc(dataset.last_valid_index())\n",
        "  if horas>24:\n",
        "    print(\"Solicitud no procesada / NO debe ser mayor a 24 Horas\")\n",
        "  else:\n",
        "    for j in range (0,fin+1):\n",
        "      if j==0:\n",
        "        velocidad.append(dataset.iloc[j:j+1, 2].values/(24/horas))\n",
        "        #aceleracion.append((velocidad[j])/(24/horas))\n",
        "        aceleracion.append((velocidad[j]) )\n",
        "        indice_crecimiento.append(dataset.iloc[j:j+1, 2].values)\n",
        "        indice_activos.append(dataset.iloc[j:j+1, 5].values)\n",
        "        j+=j\n",
        "      else:    \n",
        "        velocidad.append((dataset.iloc[j:j+1, 2].values - dataset.iloc[j-1:j, 2].values)/(24/horas))         \n",
        "        #aceleracion.append((velocidad[j]-velocidad[j-1])/(24/horas))\n",
        "        aceleracion.append((velocidad[j]-velocidad[j-1]) )\n",
        "        indice_crecimiento.append((dataset.iloc[j:j+1, 2].values/dataset.iloc[j-1:j, 2].values)) \n",
        "        indice_activos.append((dataset.iloc[j:j+1, 5].values/dataset.iloc[j-1:j, 5].values)) \n",
        "        j+=j\n",
        "    return np.array(velocidad),np.array(aceleracion),np.array(indice_crecimiento), np.array(indice_activos)\n",
        " \n",
        " \n",
        "#ECUACIONES DIFERENCIALES\n",
        "def Modelo_SIR(y,t, N,beta, gamma):            \n",
        "    S, I, R = y\n",
        "    \n",
        "    dS = -beta*S*I/N\n",
        "    dI = beta*S*I/N - gamma*I \n",
        "    dR = gamma*I \n",
        "    return ([dS, dI, dR])\n",
        " \n",
        " \n",
        "#MODELO EXPONENCIAL\n",
        "#https://docs.scipy.org/doc/scipy/reference/generated/scipy.optimize.curve_fit.html\n",
        "#https://www.it-swarm.dev/es/python/como-hacer-el-ajuste-de-curvas-exponenciales-y-logaritmicas-en-python-solo-encontre-el-ajuste-polinomial/969066654/\n",
        " \n",
        "import numpy as np\n",
        "from scipy.optimize import curve_fit\n",
        "import matplotlib.pyplot as plt\n",
        " \n",
        "def func_exp(x, a, b, c):\n",
        "    funcion = a * np.exp(b * x) + c\n",
        "    return funcion\n",
        " \n",
        "def exponential_regression (x_data, y_data,dias,cond_aceleracion=False,country=\"Guatemala\"):\n",
        "    x_data=x_data.flatten()\n",
        "    popt, pcov = curve_fit(func_exp, x_data, y_data, p0 = (-10, .2, 10))\n",
        "    \n",
        "    #PREDICCION\n",
        "    x_exp = dias_predecir(dias)\n",
        "    y_exp = []\n",
        "    for i in range(0,len(x_exp)): \n",
        "      y_exp.append(func_exp(x_exp[i],popt[0],popt[1],popt[2]))\n",
        "      i+=i\n",
        "    \n",
        "    #GRAFICA    \n",
        "    plt.figure(figsize=[10,6])\n",
        "    plt.stackplot(x.flatten(),y, labels=[\"Contagios\"], colors=\"#6C7463\", alpha=0.3)\n",
        "    plt.stackplot(x.flatten(),activos, labels=[\"Activos\"], colors=\"#0F92F3\",alpha=0.3)\n",
        "    plt.title(pais+\" - COVID-19\")\n",
        "    plt.xlabel('Dias desde primer caso (t)')\n",
        "    plt.ylabel('Contagios')\n",
        "    coef_a,coef_b,coef_c,decimales=popt[0],popt[1],popt[2],3\n",
        "    tex_model=\"Activos\" if (Activos) else \"Contagios\"\n",
        "    texto = plt.text(5, np.max(y_exp)/2, r'$%s=%s\\cdot e^{%st}% s$'%(tex_model,round(coef_a,decimales),round(coef_b,decimales),round(coef_c,decimales)), fontsize=16)\n",
        "    plt.plot(x_data, func_exp(x_data, *popt), color='orange', label = \"Modelo: {:.3f}*e({:.3f}*t){:.3f}\".format(*popt))\n",
        "    plt.plot(x_exp, y_exp, color='Green', label = \"Tendencia\")\n",
        "    plt.grid()\n",
        "    plt.legend()\n",
        "    plt.show()\n",
        "    salida = pd.DataFrame(np.round(func_exp(x_data, *popt),decimals=0),y_train) \n",
        "    print(\"Indice de crecimiento del modelo: \"+str(np.array(y_exp[1:2]).flatten()/np.array(y_exp[:1]).flatten()) )\n",
        "    print(*popt)\n",
        "    print(np.round(y_exp,decimals=0))    \n",
        "    return np.round(func_exp(x_data, *popt)), np.round(y_exp,decimals=0), popt"
      ],
      "execution_count": 0,
      "outputs": []
    },
    {
      "cell_type": "markdown",
      "metadata": {
        "id": "rIjVLg33ORzS",
        "colab_type": "text"
      },
      "source": [
        "# **INFORME**"
      ]
    },
    {
      "cell_type": "code",
      "metadata": {
        "id": "ZGnrlj5UDldh",
        "colab_type": "code",
        "cellView": "form",
        "outputId": "3a1c304d-8647-48d8-c2fb-aeb2f91cba8a",
        "colab": {
          "base_uri": "https://localhost:8080/",
          "height": 106
        }
      },
      "source": [
        "#@title\n",
        "#@title PROCESAR DATOS\n",
        "pais = \"Guatemala\" #@param {type:\"string\"}\n",
        " \n",
        "#CONEXION BIGQUERY\n",
        "import sys\n",
        "if 'google.colab' in sys.modules:\n",
        "  from google.colab import auth as google_auth\n",
        "  google_auth.authenticate_user()\n",
        " \n",
        "#CARGA DATASET\n",
        "project_id = \"studied-temple-271217\"\n",
        "sql = \"SELECT * FROM `bigquery-public-data.covid19_jhu_csse_eu.summary` where country_region in ('\" + pais + \"') order by date asc\"\n",
        "dataset_origen = pd.read_gbq(sql, project_id=project_id, dialect='standard')\n",
        " \n",
        "#DATA CLEANNING  \n",
        "dataset = dataset_origen\n",
        "dataset = dataset.drop([\"latitude\",\"longitude\"], axis = 1)\n",
        "dataset=dataset.groupby([\"date\",\"country_region\"], as_index=False).sum()\n",
        "dataset[\"active\"] = dataset[\"confirmed\"]-dataset[\"deaths\"]-dataset[\"recovered\"]\n",
        "dataset = dataset.fillna(0)\n",
        "dataset[\"no_dias\"]=dataset.index\n",
        "if pais == \"Guatemala\":\n",
        "  dataset.update(pd.DataFrame({\"confirmed\":[70,74,80,87,126,137,153,316,342,557,585,1912,2001]}, index=[22,23,24,25,26,27,28,38,39,45,46,64,65])) \n",
        "  dataset.update(pd.DataFrame({\"active\":[477,1737,1822]}, index=[45,64,65])) \n",
        "x,y,activos,muertes,recuperados = dataset.index.values.reshape(-1,1),dataset.iloc[:, 2].values,dataset.iloc[:, 5].values,dataset.iloc[:, 3].values,dataset.iloc[:, 4].values\n",
        "print(dataset[\"date\"].head(1))\n",
        "print(dataset[\"date\"].tail(1))\n",
        "#INICIALIZACION DE MODELOS \n",
        "y_modelo,y_pred_test,prediccion_semana,indices_dias=[],[],[],8"
      ],
      "execution_count": 0,
      "outputs": [
        {
          "output_type": "stream",
          "text": [
            "0   2020-03-14\n",
            "Name: date, dtype: datetime64[ns]\n",
            "70   2020-05-23\n",
            "Name: date, dtype: datetime64[ns]\n"
          ],
          "name": "stdout"
        }
      ]
    },
    {
      "cell_type": "code",
      "metadata": {
        "id": "HMRHLdtzcuSt",
        "colab_type": "code",
        "cellView": "form",
        "outputId": "bcc95951-1a72-4141-8bb8-e7692def3ce8",
        "colab": {
          "base_uri": "https://localhost:8080/",
          "height": 247
        }
      },
      "source": [
        "#@titleESTADO ACTUAL\n",
        "VCH = False #@param {type:\"boolean\"}\n",
        "Mostrar_aceleración = True #@param {type:\"boolean\"}\n",
        "import warnings\n",
        "warnings.filterwarnings(\"ignore\")\n",
        "fig,(axs,axs2) = plt.subplots(1,2)\n",
        "plt.subplots_adjust(top=1.2, wspace=.2,right=2.6)\n",
        "\n",
        "#CONTAGIOS & ACTIVOS\n",
        "axs.set_title(\"{} - COVID-19\".format(pais))\n",
        "axs.set_ylabel('Contagios')\n",
        "axs.set_xlabel('Dias desde primer caso')\n",
        "axs.stackplot(x.flatten(),y, labels=[\"Contagios\"], colors=\"#6C7463\", alpha=0.3)\n",
        "axs.stackplot(x.flatten(),activos, labels=[\"Activos\"], colors=\"#0F92F3\",alpha=0.3)\n",
        "axs.legend(loc='upper left')\n",
        "axs.grid()\n",
        "\n",
        "#VELOCIDAD DE CRECIMIENTO\n",
        "horas= 1 if (VCH) else 24\n",
        "texto_vel = \"hora\" if (VCH) else \"día\"\n",
        "velocidad,aceleracion,indice_crecimiento,indice_activos=vel_crecimiento(horas)\n",
        "axs2.set_title(\"Velocidad de contagios por {}\".format(texto_vel) )\n",
        "axs2.set_xlabel('Dias desde primer caso')\n",
        "axs2.set_ylabel('Contagios')\n",
        "#axs2.set_xlabel('Dias desde primer caso')\n",
        "axs2.bar(x.flatten(),velocidad.flatten(), color=\"Orange\" )\n",
        "if (Mostrar_aceleración):\n",
        "  axs2.bar(x.flatten(),aceleracion.flatten(), color=\"Green\" )\n",
        "axs2.legend()\n",
        "axs2.grid()\n",
        "\n",
        "#METRICAS\n",
        "media_vc=7\n",
        "print(\"DIA:{} \\nVELOCIDAD CRECIMIENTO: {:,.0f} || MAX[{:,.0f}] || VC(Hace 7 dias): {:,.0f} || INCREMENTO:{:,.0f} \\nCONTAGIOS: {:,.0f} [{:,.0f}] || ICD{} \\nACTIVOS: {:,.0f} [{:,.0f}] || ICD{} \\nRECUPERADOS:{:,.0f} || [{:,.2f}%] \\nFALLECIDOS: {:,.0f} || [{:,.2f}%]\".format(\n",
        "    x[-1:].flatten(),\n",
        "    velocidad.flatten()[-1],np.max(velocidad),velocidad.flatten()[-8],np.sum(aceleracion[-media_vc:]),\n",
        "    y[-1],y[-1]*np.mean(indice_crecimiento[-media_vc:]),np.round(indice_crecimiento[-1:].flatten(),decimals=4),\n",
        "    activos[-1],activos[-1]*np.mean(indice_activos[-media_vc:]),np.round(indice_activos[-1].flatten(),decimals=4),\n",
        "    recuperados[-1],recuperados[-1]/y[-1]*100,\n",
        "    muertes[-1],muertes[-1]/y[-1]*100) )\n"
      ],
      "execution_count": 0,
      "outputs": [
        {
          "output_type": "stream",
          "text": [
            "No handles with labels found to put in legend.\n"
          ],
          "name": "stderr"
        },
        {
          "output_type": "stream",
          "text": [
            "DIA:[70] \n",
            "VELOCIDAD CRECIMIENTO: 311 || MAX[311] || VC(Hace 7 dias): 120 || INCREMENTO:191 \n",
            "CONTAGIOS: 3,054 [3,304] || ICD[1.1134] \n",
            "ACTIVOS: 2,755 [2,980] || ICD[1.1154] \n",
            "RECUPERADOS:244 || [7.99%] \n",
            "FALLECIDOS: 55 || [1.80%]\n"
          ],
          "name": "stdout"
        },
        {
          "output_type": "display_data",
          "data": {
            "image/png": "[encoded data removed]",
            "text/plain": [
              "<Figure size 432x288 with 2 Axes>"
            ]
          },
          "metadata": {
            "tags": [],
            "needs_background": "light"
          }
        }
      ]
    },
    {
      "cell_type": "markdown",
      "metadata": {
        "id": "r_9NP-JKOcxf",
        "colab_type": "text"
      },
      "source": [
        "# **MODELO**"
      ]
    },
    {
      "cell_type": "code",
      "metadata": {
        "id": "mb7m9FZfOhyg",
        "colab_type": "code",
        "cellView": "form",
        "outputId": "e7c31e91-866f-424a-d71a-0327c275daf8",
        "colab": {
          "base_uri": "https://localhost:8080/",
          "height": 328
        }
      },
      "source": [
        "#@title\n",
        "fecha_ini = \"2020-03-14\" #@param {type:\"date\"}\n",
        "fecha_fin = \"2020-04-07\" #@param {type:\"date\"}\n",
        "\n",
        "Activos = False #@param {type:\"boolean\"}\n",
        "Exponencial = True #@param {type:\"boolean\"}\n",
        "Grado_polinomio =  3#@param {type:\"integer\"}\n",
        "dias_pred =  2#@param {type:\"integer\"}\n",
        "Actualizar_BigQuery = False #@param {type:\"boolean\"}\n",
        "\n",
        "#dias_pred= 15\n",
        "\n",
        "#TRAINNING & TEST \n",
        "cond_train,cond_test=dataset.loc[(dataset['date'] >= fecha_ini) & (dataset['date'] <= fecha_fin)],dataset.where(dataset[\"date\"]>=fecha_fin).dropna()\n",
        "#cond_train,cond_test = dataset.where(dataset[\"date\"]<fecha_fin).dropna(),dataset.where(dataset[\"date\"]>=fecha_fin).dropna()\n",
        "\n",
        "campo = 5 if (Activos) else 2\n",
        "x_train,y_train = cond_train.index.values.reshape(-1,1),cond_train.iloc[:, campo].values\n",
        "x_test,y_test = cond_test.index.values.reshape(-1,1),cond_test.iloc[:, campo].values\n",
        "\n",
        "#MODELO EXPONENCIAL \n",
        "if (Exponencial):\n",
        "  y_pred,tend,coef=exponential_regression(x_train, y_train,dias_pred)\n",
        "else:\n",
        "  #MODELO POLINOMIO GRADO N\n",
        "  from sklearn import linear_model\n",
        "  from sklearn.preprocessing import PolynomialFeatures\n",
        "  polinomio = PolynomialFeatures(degree = Grado_polinomio)\n",
        "  x_modelo = polinomio.fit_transform(x_train)\n",
        "\n",
        "  #MODELO\n",
        "  modelo = linear_model.LinearRegression()\n",
        "  modelo.fit(x_modelo,y_train)\n",
        "  y_modelo = modelo.predict(x_modelo)\n",
        "\n",
        "  #TEST MODELO\n",
        "  from datetime import date\n",
        "  today = date.today()\n",
        "  dif_y,y_pred_test,prediccion_semana = [],[],[]\n",
        "  fecha_hoy = format(today.year)+\"-\"+format(today.month).zfill(2)+\"-\"+format(today.day).zfill(2)\n",
        "  if fecha_fin<fecha_hoy:\n",
        "    y_pred_test = modelo.predict(polinomio.fit_transform(x_test))\n",
        "    dif_y = pd.DataFrame(np.round(y_pred_test, decimals=0),y_test)\n",
        "  #print(dif_y)\n",
        "\n",
        "  #METRICAS\n",
        "  from sklearn.metrics import mean_squared_error\n",
        "  print(\"R²(modelo): \"+str(round(modelo.score(x_modelo,y_train),4)))\n",
        "  print(\"MSE: \"+str(round(math.sqrt(mean_squared_error(y_pred_test, y_test)),4)))\n",
        "  print('COEFICIENTES MODELO: '+ str(modelo.coef_) + \"\\n\")\n",
        "\n",
        "  #TENDENCIA \n",
        "  x_semana = np.array(dias_predecir(dias_pred+1))\n",
        "  prediccion_semana = modelo.predict(polinomio.fit_transform(x_semana.reshape(-1,1)))\n",
        "  print(np.round(prediccion_semana,decimals=0))\n",
        "  \n",
        "  #GRAFICA\n",
        "  plt.figure(figsize=[10,6])\n",
        "  plt.title(pais + \" - COVID-19\")\n",
        "  plt.xlabel('Dias desde primer caso')\n",
        "  plt.ylabel('Contagios')\n",
        "  plt.stackplot(x.flatten(),y, labels=[\"Contagios\"], colors=\"#6C7463\", alpha=0.3)\n",
        "  plt.stackplot(x.flatten(),activos, labels=[\"Activos\"], colors=\"#0F92F3\",alpha=0.3)\n",
        "  plt.plot(x_train,y_modelo, color = \"orange\", label = \"Modelo\")\n",
        "  plt.plot(x_test,y_pred_test, color = \"purple\", label = \"Modelo_test\")\n",
        "  plt.plot(x_semana,prediccion_semana, color = \"green\", label = \"Tendencia\")\n",
        "  plt.grid()\n",
        "  plt.legend(loc='upper left')\n",
        "\n",
        "\n",
        "#ACTUALIZAR DATOS BIG QUERY\n",
        "if (Actualizar_BigQuery) and (Exponencial):\n",
        "  columnas = [\"fecha\",\"pais\",\"confirmados\",\"muertes\",\"recuperados\",\n",
        "              \"activos\",\"velocidad\",\"aceleracion\",\"indice_crecimiento\",\"modelo\"]\n",
        "  dfs = [dataset,pd.DataFrame(velocidad),\n",
        "                pd.DataFrame(aceleracion),\n",
        "                pd.DataFrame(indice_crecimiento),\n",
        "                pd.DataFrame(y_pred),\n",
        "                ]\n",
        "  df_todo=pd.concat(dfs,axis=1)\n",
        "  df_todo.columns=columnas\n",
        "  tendencia=pd.DataFrame(tend[1:])\n",
        "  tendencia.columns=[\"modelo\"]\n",
        "  df_todo=df_todo.append(tendencia)\n",
        "  df_todo=df_todo.reset_index()\n",
        "  df_todo[\"dias\"] = df_todo.index.values\n",
        "  tabla = 'dataset.covid19_gt'\n",
        "  df_todo.to_gbq(tabla,project_id=project_id,if_exists='replace')\n",
        "\n",
        "  #COEFICIENTES\n",
        "  coeficientes = pd.DataFrame(np.round(coef,decimals=3))\n",
        "  coeficientes.columns=[\"coeficientes\"]\n",
        "  coeficientes[\"index\"] = coeficientes.index.values\n",
        "  tabla_coef = 'dataset.coef_funcion'\n",
        "  coeficientes.to_gbq(tabla_coef,project_id=project_id,if_exists='replace')\n",
        "\n",
        "elif (Actualizar_BigQuery):\n",
        "  print(\"WARNING: Solo se puede actuliza datos del modelo Exponencial\")\n",
        "\n"
      ],
      "execution_count": 0,
      "outputs": [
        {
          "output_type": "display_data",
          "data": {
            "image/png": "[encoded data removed]",
            "text/plain": [
              "<Figure size 720x432 with 1 Axes>"
            ]
          },
          "metadata": {
            "tags": [],
            "needs_background": "light"
          }
        },
        {
          "output_type": "stream",
          "text": [
            "Indice de crecimiento del modelo: [1.09191637]\n",
            "14.786766231327476 0.07566573954265585 -12.207017722404482\n",
            "[  72.   79.   86.   94.  102.  111.  120.  131.  142.  154.  167.  182.\n",
            "  197.  213.  231.  250.  271.  293.  317.  343.  371.  401.  433.  468.\n",
            "  506.  547.  590.  638.  689.  744.  803.  868.  937. 1011. 1092. 1179.\n",
            " 1272. 1373. 1482. 1599. 1726. 1863. 2010. 2169. 2341. 2525. 2725. 2940.\n",
            " 3172. 3422.]\n"
          ],
          "name": "stdout"
        }
      ]
    },
    {
      "cell_type": "markdown",
      "metadata": {
        "id": "ivUdy4XEG2l9",
        "colab_type": "text"
      },
      "source": [
        "# **MODELO SIR**"
      ]
    },
    {
      "cell_type": "code",
      "metadata": {
        "id": "TigeRirALzYT",
        "colab_type": "code",
        "cellView": "form",
        "colab": {}
      },
      "source": [
        "#@title\n",
        "Poblacion =  75e3#@param {type:\"number\"}\n",
        "beta =  0.214#@param {type:\"number\"}\n",
        "gamma =  0.1#@param {type:\"number\"}\n",
        "tiempo =   100#@param {type:\"number\"}\n",
        "modelo_completo = False #@param {type:\"boolean\"}\n",
        "N=Poblacion\n",
        "\n",
        "#VALORES INICIALES\n",
        "I0,R0 = 1,0\n",
        "S0 = N - I0 - R0\n",
        "Ro = (beta)/(gamma)\n",
        "print('R0 =',Ro)\n",
        "\n",
        "#GRAFICA\n",
        "plt.figure(figsize=[10,6])\n",
        "\n",
        "if (modelo_completo):\n",
        "  t = np.linspace(0,tiempo ,tiempo)\n",
        "  sol_ecuaciones = scipy.integrate.odeint(Modelo_SIR, [S0, I0, R0], t, args=(N,beta, gamma))\n",
        "  plt.ylabel(\"% Población\")\n",
        "  plt.plot(t, sol_ecuaciones[:, 1]/Poblacion, label=\"Activos\", color=\"Orange\")\n",
        "  plt.plot(t, sol_ecuaciones[:, 0]/Poblacion, label=\"Suceptibles\", color=\"Blue\")\n",
        "  plt.plot(t, sol_ecuaciones[:, 2]/Poblacion, label=\"Recuperados\", color=\"Green\") \n",
        "else:\n",
        "  t = np.linspace(0,tiempo ,tiempo)\n",
        "  sol_ecuaciones = scipy.integrate.odeint(Modelo_SIR, [S0, I0, R0], t, args=(N,beta, gamma)) \n",
        "  plt.ylabel(\"Activos\")\n",
        "  plt.plot(t, sol_ecuaciones[:, 1], label=\"Modelo-Activos\", color=\"Orange\")\n",
        "  plt.bar(x[0:tiempo+1].flatten(),activos[0:tiempo+1].flatten(), color=\"Blue\",alpha=0.3,label=\"Activos\" )\n",
        "\n",
        "plt.title(\"MODELO SIR - {}\".format(pais))\n",
        "plt.xlabel(\"días\")\n",
        "plt.grid()\n",
        "plt.legend()\n",
        "plt.show()\n"
      ],
      "execution_count": 0,
      "outputs": []
    },
    {
      "cell_type": "markdown",
      "metadata": {
        "id": "JPHto3cG-uti",
        "colab_type": "text"
      },
      "source": [
        "## Ecuaciones Diferenciales\n",
        "\n",
        "---\n",
        "\n",
        "\n",
        "![texto alternativo](https://media.elmostrador.cl/2020/03/dos.png)\n",
        "\n",
        "#https://ajph.aphapublications.org/doi/pdf/10.2105/AJPH.2013.301704s\n"
      ]
    }
  ]
}