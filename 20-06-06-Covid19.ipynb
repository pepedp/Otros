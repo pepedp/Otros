{
  "nbformat": 4,
  "nbformat_minor": 0,
  "metadata": {
    "colab": {
      "name": "Covid19.ipynb",
      "provenance": [],
      "collapsed_sections": [
        "U1Y0KtPCPtEE",
        "xV6m3_w2Ozq6",
        "ivUdy4XEG2l9",
        "0wpc-AR3Izcs",
        "VO1Px7HJHvuX"
      ],
      "include_colab_link": true
    },
    "kernelspec": {
      "name": "python3",
      "display_name": "Python 3"
    }
  },
  "cells": [
    {
      "cell_type": "markdown",
      "metadata": {
        "id": "view-in-github",
        "colab_type": "text"
      },
      "source": [
        "<a href=\"https://colab.research.google.com/github/pepedp/COVID-19/blob/master/20-06-06-Covid19.ipynb\" target=\"_parent\"><img src=\"https://colab.research.google.com/assets/colab-badge.svg\" alt=\"Open In Colab\"/></a>"
      ]
    },
    {
      "cell_type": "markdown",
      "metadata": {
        "id": "U1Y0KtPCPtEE",
        "colab_type": "text"
      },
      "source": [
        "# Covid-19 ![texto alternativo](https://www.acshoco.org/wp-content/uploads/2020/03/COVID-19.png)\n",
        "\n",
        "**FUENTE DATOS:** `bigquery-public-data.covid19_jhu_csse.summary`  "
      ]
    },
    {
      "cell_type": "markdown",
      "metadata": {
        "id": "xV6m3_w2Ozq6",
        "colab_type": "text"
      },
      "source": [
        "# **INICIO**\n"
      ]
    },
    {
      "cell_type": "code",
      "metadata": {
        "id": "iUNH5uYub2XN",
        "colab_type": "code",
        "cellView": "form",
        "colab": {}
      },
      "source": [
        "#@title INICIO\n",
        "#LIBRERIRAS \n",
        "import pandas as pd\n",
        "import math\n",
        "import numpy as np\n",
        "import math\n",
        "import matplotlib.pyplot as plt\n",
        "from google.cloud import bigquery\n",
        "import scipy.integrate \n",
        "%matplotlib inline \n",
        " \n",
        "#CONEXION BIGQUERY\n",
        "import sys\n",
        "if 'google.colab' in sys.modules:\n",
        "  from google.colab import auth as google_auth\n",
        "  google_auth.authenticate_user()\n",
        " \n",
        "#FUNCION PARA DETERMINAR LOS DIAS A PRONOSTICAR  \n",
        "def dias_predecir(dias):\n",
        "  from datetime import datetime \n",
        "  diferencia=datetime.today()-datetime.strptime(fecha_fin, '%Y-%m-%d')\n",
        "  diferencia.days\n",
        "  i=0\n",
        "  semana=[]\n",
        "  dia=0\n",
        "  if (Exponencial):\n",
        "    dia = dataset.index.get_loc(dataset.last_valid_index()-diferencia.days+1)\n",
        "    for i in range(0,dias+diferencia.days):\n",
        "      semana.append(dia+i)    \n",
        "      i+=i\n",
        "  else:\n",
        "    dia = dataset.index.get_loc(dataset.last_valid_index() )\n",
        "    for i in range(0,dias):\n",
        "      semana.append(dia+i)    \n",
        "      i+=i\n",
        "  return semana\n",
        " \n",
        "#FUNCION VELOCIDAD, ACELERACION E INDICE DE CRECIMIENTO\n",
        "def vel_crecimiento(horas=24):\n",
        "  j=0\n",
        "  velocidad=[]\n",
        "  aceleracion=[]\n",
        "  indice_crecimiento=[]\n",
        "  indice_activos=[]\n",
        "  fin = dataset.index.get_loc(dataset.last_valid_index())\n",
        "  if horas>24:\n",
        "    print(\"Solicitud no procesada / NO debe ser mayor a 24 Horas\")\n",
        "  else:\n",
        "    for j in range (0,fin+1):\n",
        "      if j==0:\n",
        "        velocidad.append(dataset.iloc[j:j+1, 2].values/(24/horas))\n",
        "        aceleracion.append((velocidad[j]) )\n",
        "        indice_crecimiento.append(dataset.iloc[j:j+1, 2].values)\n",
        "        indice_activos.append(dataset.iloc[j:j+1, 5].values)\n",
        "        j+=j\n",
        "      else:    \n",
        "        velocidad.append((dataset.iloc[j:j+1, 2].values - dataset.iloc[j-1:j, 2].values)/(24/horas))         \n",
        "        aceleracion.append((velocidad[j]-velocidad[j-1]) )\n",
        "        indice_crecimiento.append((dataset.iloc[j:j+1, 2].values/dataset.iloc[j-1:j, 2].values)) \n",
        "        indice_activos.append((dataset.iloc[j:j+1, 5].values/dataset.iloc[j-1:j, 5].values)) \n",
        "        j+=j\n",
        "    return np.array(velocidad),np.array(aceleracion),np.array(indice_crecimiento), np.array(indice_activos)\n",
        " \n",
        " \n",
        "#MODELO EXPONENCIAL\n",
        "#https://docs.scipy.org/doc/scipy/reference/generated/scipy.optimize.curve_fit.html\n",
        "#https://www.it-swarm.dev/es/python/como-hacer-el-ajuste-de-curvas-exponenciales-y-logaritmicas-en-python-solo-encontre-el-ajuste-polinomial/969066654/\n",
        " \n",
        "import numpy as np\n",
        "from scipy.optimize import curve_fit\n",
        "import matplotlib.pyplot as plt\n",
        " \n",
        "def func_exp(x, a, b, c):\n",
        "    funcion = a * np.exp(b * x) + c\n",
        "    return funcion\n",
        " \n",
        "def exponential_regression (x_data, y_data,dias,cond_aceleracion=False,country=\"Guatemala\"):\n",
        "    x_data=x_data.flatten()\n",
        "    popt, pcov = curve_fit(func_exp, x_data, y_data, p0 = (-10, .2, 10))\n",
        "    \n",
        "    #PREDICCION\n",
        "    x_exp = dias_predecir(dias)\n",
        "    y_exp = []\n",
        "    for i in range(0,len(x_exp)): \n",
        "      y_exp.append(func_exp(x_exp[i],popt[0],popt[1],popt[2]))\n",
        "      i+=i\n",
        "    \n",
        "    #GRAFICA    \n",
        "    plt.figure(figsize=[10,6])\n",
        "    plt.stackplot(x.flatten(),y, labels=[\"Contagios\"], colors=\"#6C7463\", alpha=0.3)\n",
        "    plt.stackplot(x.flatten(),activos, labels=[\"Activos\"], colors=\"#0F92F3\",alpha=0.3)\n",
        "    plt.title(pais+\" - COVID-19\")\n",
        "    plt.xlabel('Dias desde primer caso (t)')\n",
        "    plt.ylabel('Contagios')\n",
        "    coef_a,coef_b,coef_c,decimales=popt[0],popt[1],popt[2],3\n",
        "    tex_model=\"Activos\" if (Activos) else \"Contagios\"\n",
        "    texto = plt.text(5, np.max(y_exp)/2, r'$%s=%s\\cdot e^{%st}% s$'%(tex_model,round(coef_a,decimales),round(coef_b,decimales),round(coef_c,decimales)), fontsize=16)\n",
        "    plt.plot(x_data, func_exp(x_data, *popt), color='orange', label = \"Modelo: {:.3f}*e({:.3f}*t){:.3f}\".format(*popt))\n",
        "    plt.plot(x_exp, y_exp, color='Green', label = \"Tendencia\")\n",
        "    plt.grid()\n",
        "    plt.legend()\n",
        "    plt.show()\n",
        "    salida = pd.DataFrame(np.round(func_exp(x_data, *popt),decimals=0),y_train) \n",
        "    #print(\"Indice de crecimiento del modelo: \"+str(np.array(y_exp[1:2]).flatten()/np.array(y_exp[:1]).flatten()) )\n",
        "    #print(*popt)\n",
        "    print(np.round(y_exp[-dias_pred-1:],decimals=0))    \n",
        "    return np.round(func_exp(x_data, *popt)), np.round(y_exp,decimals=0), popt\n",
        " \n",
        " \n",
        "#ECUACIONES DIFERENCIALES\n",
        "def Modelo_SIR(y,t, N,beta, gamma):            \n",
        "    S, I, R = y\n",
        "    \n",
        "    dS = -beta*S*I/N\n",
        "    dI = beta*S*I/N - gamma*I \n",
        "    dR = gamma*I \n",
        "    return ([dS, dI, dR])\n",
        " \n",
        "def Modelo_SEIR(y,t,N,beta, gamma,epsilon,mu,B):\n",
        "  S, E, I, R = y\n",
        "  dS = -beta*S*I/N\n",
        "  dE = beta*S*I/N - epsilon*E\n",
        "  dI = epsilon*E - gamma*I \n",
        "  dR = gamma*I \n",
        "  return ([dS, dE, dI, dR])"
      ],
      "execution_count": 0,
      "outputs": []
    },
    {
      "cell_type": "markdown",
      "metadata": {
        "id": "rIjVLg33ORzS",
        "colab_type": "text"
      },
      "source": [
        "# **INFORME**"
      ]
    },
    {
      "cell_type": "code",
      "metadata": {
        "id": "ZGnrlj5UDldh",
        "colab_type": "code",
        "cellView": "form",
        "colab": {
          "base_uri": "https://localhost:8080/",
          "height": 85
        },
        "outputId": "452f5327-82db-47d2-c15e-2d8d64badc23"
      },
      "source": [
        "#@title\n",
        "#@title PROCESAR DATOS\n",
        "pais = \"New York\" #@param {type:\"string\"}\n",
        "PorEstado = True #@param {type:\"boolean\"}\n",
        " \n",
        " \n",
        "if (PorEstado):\n",
        "  #CARGA DATASET\n",
        "  project_id = \"studied-temple-271217\"\n",
        "  sql = \"SELECT * FROM `bigquery-public-data.covid19_jhu_csse.summary` where province_state in ('\" + pais + \"') order by date asc\"\n",
        "  dataset_origen = pd.read_gbq(sql, project_id=project_id, dialect='standard')\n",
        "  \n",
        "  #DATA CLEANNING  \n",
        "  dataset = dataset_origen\n",
        "  dataset = dataset.drop([\"latitude\",\"longitude\"], axis = 1)\n",
        "  dataset=dataset.groupby([\"date\",\"province_state\"], as_index=False).sum()\n",
        "  #dataset[\"active\"] = dataset[\"confirmed\"]-dataset[\"deaths\"]-dataset[\"recovered\"]\n",
        "  dataset = dataset.fillna(0)\n",
        "  #dataset[\"no_dias\"]=dataset.index\n",
        "  x,y,activos,muertes,recuperados = dataset.index.values.reshape(-1,1),dataset.iloc[:, 2].values,dataset.iloc[:, 5].values,dataset.iloc[:, 3].values,dataset.iloc[:, 4].values\n",
        "  print(dataset[\"date\"].head(1))\n",
        "  print(dataset[\"date\"].tail(1))\n",
        "  #INICIALIZACION DE MODELOS \n",
        "  y_modelo,y_pred_test,prediccion_semana,indices_dias=[],[],[],8\n",
        "\n",
        "else:\n",
        "  #CARGA DATASET\n",
        "  project_id = \"studied-temple-271217\"\n",
        "  sql = \"SELECT * FROM `bigquery-public-data.covid19_jhu_csse.summary` where country_region in ('\" + pais + \"') order by date asc\"\n",
        "  dataset_origen = pd.read_gbq(sql, project_id=project_id, dialect='standard')\n",
        "  \n",
        "  #DATA CLEANNING  \n",
        "  dataset = dataset_origen\n",
        "  dataset = dataset.drop([\"latitude\",\"longitude\"], axis = 1)\n",
        "  dataset=dataset.groupby([\"date\",\"country_region\"], as_index=False).sum()\n",
        "  dataset[\"active\"] = dataset[\"confirmed\"]-dataset[\"deaths\"]-dataset[\"recovered\"]\n",
        "  dataset = dataset.fillna(0)\n",
        "  #dataset[\"no_dias\"]=dataset.index\n",
        "  if pais == \"Guatemala\":\n",
        "    dataset.update(pd.DataFrame({\"confirmed\":[70,74,80,87,126,137,153,316,342,557,585,1912,2001]}, index=[22,23,24,25,26,27,28,38,39,45,46,64,65])) \n",
        "    dataset.update(pd.DataFrame({\"active\":[477,1737,1822]}, index=[45,64,65])) \n",
        "  x,y,activos,muertes,recuperados = dataset.index.values.reshape(-1,1),dataset.iloc[:, 2].values,dataset.iloc[:, 5].values,dataset.iloc[:, 3].values,dataset.iloc[:, 4].values\n",
        "  print(dataset[\"date\"].head(1))\n",
        "  print(dataset[\"date\"].tail(1))\n",
        "  #INICIALIZACION DE MODELOS \n",
        "  y_modelo,y_pred_test,prediccion_semana,indices_dias=[],[],[],8"
      ],
      "execution_count": 283,
      "outputs": [
        {
          "output_type": "stream",
          "text": [
            "0   2020-03-10\n",
            "Name: date, dtype: datetime64[ns]\n",
            "87   2020-06-05\n",
            "Name: date, dtype: datetime64[ns]\n"
          ],
          "name": "stdout"
        }
      ]
    },
    {
      "cell_type": "code",
      "metadata": {
        "id": "HMRHLdtzcuSt",
        "colab_type": "code",
        "cellView": "form",
        "outputId": "b86e7839-6cf6-458e-cba0-d36916d21625",
        "colab": {
          "base_uri": "https://localhost:8080/",
          "height": 591
        }
      },
      "source": [
        "#@titleESTADO ACTUAL\n",
        "VCH = False #Calculo por hora\n",
        "Dias_atras = 7#@param {type:\"integer\"}\n",
        " \n",
        "import warnings\n",
        "warnings.filterwarnings(\"ignore\")\n",
        "fig,(axs,axs2) = plt.subplots(1,2)\n",
        "plt.subplots_adjust(top=1.2, wspace=.2,right=2.6)\n",
        " \n",
        "#CONTAGIOS & ACTIVOS\n",
        "axs.set_title(\"{} - COVID-19\".format(pais))\n",
        "axs.set_ylabel('Contagios')\n",
        "axs.set_xlabel('Dias desde primer caso')\n",
        "axs.stackplot(x.flatten(),y, labels=[\"Contagios\"], colors=\"#6C7463\", alpha=0.3)\n",
        "axs.stackplot(x.flatten(),activos, labels=[\"Activos\"], colors=\"#0F92F3\",alpha=0.3)\n",
        "axs.legend(loc='upper left')\n",
        "axs.grid()\n",
        " \n",
        "#VELOCIDAD DE CRECIMIENTO\n",
        "horas= 1 if (VCH) else 24\n",
        "texto_vel = \"hora\" if (VCH) else \"día\"\n",
        "velocidad,aceleracion,indice_crecimiento,indice_activos=vel_crecimiento(horas)\n",
        "axs2.set_title(\"Contagios por {}\".format(texto_vel) )\n",
        "axs2.set_xlabel('Dias desde primer caso')\n",
        "axs2.set_ylabel('Contagios')\n",
        "axs2.bar(x.flatten(),velocidad.flatten(),label=\"Contagios por Día\",color=\"Orange\" )\n",
        "axs2.bar(x.flatten(),aceleracion.flatten(),label=\"Aceleración por Día\",color=\"Green\" )\n",
        "axs2.legend(loc='upper left')\n",
        "axs2.grid()\n",
        "#fig.legend()\n",
        "fig.show()\n",
        " \n",
        "#METRICAS\n",
        "#media_vc=7\n",
        "print(\"\"\"- DIAS DESDE EL PRIMER CONTAGIO:{} \n",
        "- CONTAGIOS PROMEDIO POR HORA(Últimos {} días): {:,.0f}\n",
        "- CRECIMIENTO DIARIO: Actual[{:,.0f}] || Max.[{:,.0f}] \n",
        "- CONTAGIOS: Actual[{:,.0f}] || Pronostico_Hoy[{:,.0f}] || Indice_Crecimiento_Diario{} \n",
        "- ACTIVOS: Actual[{:,.0f}] || Pronostico_Hoy[{:,.0f}] || Indice_Crecimiento_Diario{} \n",
        "- RECUPERADOS:{:,.0f} || [{:,.2f}%] \n",
        "- FALLECIDOS: {:,.0f} || [{:,.2f}%]\"\"\".format(\n",
        "    x[-1:].flatten(),\n",
        "    Dias_atras,np.mean(velocidad[-Dias_atras:]/24),\n",
        "    velocidad.flatten()[-1],np.max(velocidad),\n",
        "    y[-1],y[-1]*np.mean(indice_crecimiento[-Dias_atras:]),np.round(indice_crecimiento[-1:].flatten(),decimals=4),\n",
        "    activos[-1],activos[-1]*np.mean(indice_activos[-Dias_atras:]),np.round(indice_activos[-1].flatten(),decimals=4),\n",
        "    recuperados[-1],recuperados[-1]/y[-1]*100,\n",
        "    muertes[-1],muertes[-1]/y[-1]*100) )\n",
        "\n",
        "print(\"\"\"\\nOBSERVACIONES:\n",
        "- Para bajar la curva de CONTAGIOS el INDICE CRECIMIENTO DIARIO debe tender a 1 || PROMEDIO ULTIMOS {} DIAS{}\n",
        "- Para descender la curva de ACTIVOS el INDICE CRECIMIENTO DIARIO debe ser menor a 1 || PROMEDIO ULTIMOS {} DIAS{}\n",
        "- Una Aceleración negativa indica baja en el crecimiento de contagios diarios || ACELERACIÓN ULTIMOS {} DIAS[{:,.0f}]\"\"\".format(\n",
        "    Dias_atras,np.round(np.mean(indice_crecimiento[-Dias_atras:]).flatten(),decimals=4),\n",
        "    Dias_atras,np.round(np.mean(indice_activos[-Dias_atras]).flatten(),decimals=4),\n",
        "    Dias_atras,np.sum(aceleracion[-Dias_atras:]) ))\n"
      ],
      "execution_count": 272,
      "outputs": [
        {
          "output_type": "stream",
          "text": [
            "- DIAS DESDE EL PRIMER CONTAGIO:[87] \n",
            "- CONTAGIOS PROMEDIO POR HORA(Últimos 7 días): 47\n",
            "- CRECIMIENTO DIARIO: Actual[1,075] || Max.[11,434] \n",
            "- CONTAGIOS: Actual[376,208] || Pronostico_Hoy[377,354] || Indice_Crecimiento_Diario[1.0029] \n",
            "- ACTIVOS: Actual[345,972] || Pronostico_Hoy[347,033] || Indice_Crecimiento_Diario[1.0029] \n",
            "- RECUPERADOS:0 || [0.00%] \n",
            "- FALLECIDOS: 30,236 || [8.04%]\n",
            "\n",
            "OBSERVACIONES:\n",
            "- Para bajar la curva de CONTAGIOS el INDICE CRECIMIENTO DIARIO debe tender a 1 || PROMEDIO ULTIMOS 7 DIAS[1.003]\n",
            "- Para descender la curva de ACTIVOS el INDICE CRECIMIENTO DIARIO debe ser menor a 1 || PROMEDIO ULTIMOS 7 DIAS[1.0039]\n",
            "- Una Aceleración negativa indica baja en el crecimiento de contagios diarios || ACELERACIÓN ULTIMOS 7 DIAS[-476]\n"
          ],
          "name": "stdout"
        },
        {
          "output_type": "display_data",
          "data": {
            "image/png": "[encoded data removed]",
            "text/plain": [
              "<Figure size 432x288 with 2 Axes>"
            ]
          },
          "metadata": {
            "tags": [],
            "needs_background": "light"
          }
        }
      ]
    },
    {
      "cell_type": "markdown",
      "metadata": {
        "id": "r_9NP-JKOcxf",
        "colab_type": "text"
      },
      "source": [
        "# **MODELO**"
      ]
    },
    {
      "cell_type": "code",
      "metadata": {
        "id": "mb7m9FZfOhyg",
        "colab_type": "code",
        "cellView": "form",
        "outputId": "978d808c-4e8e-434e-b875-faf2e9600cc3",
        "colab": {
          "base_uri": "https://localhost:8080/",
          "height": 574
        }
      },
      "source": [
        "#@title\n",
        "fecha_ini = \"2020-03-31\" #@param {type:\"date\"}\n",
        "fecha_fin = \"2020-05-30\" #@param {type:\"date\"}\n",
        " \n",
        "Activos = False #@param {type:\"boolean\"}\n",
        "Exponencial = False #@param {type:\"boolean\"}\n",
        "Grado_polinomio =  3#@param {type:\"integer\"}\n",
        "dias_pred =  7#@param {type:\"integer\"}\n",
        "#Actualizar_BigQuery = False #@param {type:\"boolean\"}\n",
        " \n",
        "#dias_pred= 15\n",
        " \n",
        "#TRAINNING & TEST \n",
        "cond_train,cond_test=dataset.loc[(dataset['date'] >= fecha_ini) & (dataset['date'] <= fecha_fin)],dataset.where(dataset[\"date\"]>=fecha_fin).dropna()\n",
        "#cond_train,cond_test = dataset.where(dataset[\"date\"]<fecha_fin).dropna(),dataset.where(dataset[\"date\"]>=fecha_fin).dropna()\n",
        " \n",
        "campo = 5 if (Activos) else 2\n",
        "x_train,y_train = cond_train.index.values.reshape(-1,1),cond_train.iloc[:, campo].values\n",
        "x_test,y_test = cond_test.index.values.reshape(-1,1),cond_test.iloc[:, campo].values\n",
        " \n",
        "#MODELO EXPONENCIAL \n",
        "if (Exponencial):\n",
        "  y_pred,tend,coef=exponential_regression(x_train, y_train,dias_pred)\n",
        "else:\n",
        "  #MODELO POLINOMIO GRADO N\n",
        "  from sklearn import linear_model\n",
        "  from sklearn.preprocessing import PolynomialFeatures\n",
        "  polinomio = PolynomialFeatures(degree = Grado_polinomio)\n",
        "  x_modelo = polinomio.fit_transform(x_train)\n",
        " \n",
        "  #MODELO\n",
        "  modelo = linear_model.LinearRegression()\n",
        "  modelo.fit(x_modelo,y_train)\n",
        "  y_modelo = modelo.predict(x_modelo)\n",
        " \n",
        "  #TEST MODELO\n",
        "  from datetime import date\n",
        "  today = date.today()\n",
        "  dif_y,y_pred_test,prediccion_semana = [],[],[]\n",
        "  fecha_hoy = format(today.year)+\"-\"+format(today.month).zfill(2)+\"-\"+format(today.day).zfill(2)\n",
        "  if fecha_fin<fecha_hoy:\n",
        "    y_pred_test = modelo.predict(polinomio.fit_transform(x_test))\n",
        "    dif_y = pd.DataFrame(np.round(y_pred_test, decimals=0),y_test)\n",
        "  #print(dif_y)\n",
        " \n",
        "  #METRICAS\n",
        "  from sklearn.metrics import mean_squared_error\n",
        "  print(\"R²(modelo): \"+str(round(modelo.score(x_modelo,y_train),4)))\n",
        "  print(\"MSE: \"+str(round(math.sqrt(mean_squared_error(y_pred_test, y_test)),4)))\n",
        "  print('COEFICIENTES MODELO: '+ str(modelo.coef_) + \"\\n\")\n",
        " \n",
        "  #TENDENCIA \n",
        "  x_semana = np.array(dias_predecir(dias_pred+1))\n",
        "  prediccion_semana = modelo.predict(polinomio.fit_transform(x_semana.reshape(-1,1)))\n",
        "  print(\"PRONOSTICO DE {} DIAS: {}\".format(dias_pred,np.round(prediccion_semana,decimals=0)) )\n",
        "  \n",
        "  #GRAFICA\n",
        "  plt.figure(figsize=[10,6])\n",
        "  plt.title(pais + \" - COVID-19\")\n",
        "  plt.xlabel('Dias desde primer caso')\n",
        "  plt.ylabel('Contagios')\n",
        "  plt.stackplot(x.flatten(),y, labels=[\"Contagios\"], colors=\"#6C7463\", alpha=0.3)\n",
        "  plt.stackplot(x.flatten(),activos, labels=[\"Activos\"], colors=\"#0F92F3\",alpha=0.3)\n",
        "  plt.plot(x_train,y_modelo, color = \"orange\", label = \"Modelo\")\n",
        "  plt.plot(x_test,y_pred_test, color = \"green\")\n",
        "  plt.plot(x_semana,prediccion_semana, color = \"green\", label = \"Pronóstico\")\n",
        "  plt.grid()\n",
        "  plt.legend(loc='upper left')\n",
        " \n",
        " \n",
        "#ACTUALIZAR DATOS BIG QUERY\n",
        "if (Actualizar_BigQuery) and (Exponencial):\n",
        "  columnas = [\"fecha\",\"pais\",\"confirmados\",\"muertes\",\"recuperados\",\n",
        "              \"activos\",\"velocidad\",\"aceleracion\",\"indice_crecimiento\",\"modelo\"]\n",
        "  dfs = [dataset,pd.DataFrame(velocidad),\n",
        "                pd.DataFrame(aceleracion),\n",
        "                pd.DataFrame(indice_crecimiento),\n",
        "                pd.DataFrame(y_pred),\n",
        "                ]\n",
        "  df_todo=pd.concat(dfs,axis=1)\n",
        "  df_todo.columns=columnas\n",
        "  tendencia=pd.DataFrame(tend[1:])\n",
        "  tendencia.columns=[\"modelo\"]\n",
        "  df_todo=df_todo.append(tendencia)\n",
        "  df_todo=df_todo.reset_index()\n",
        "  df_todo[\"dias\"] = df_todo.index.values\n",
        "  tabla = 'dataset.covid19_gt'\n",
        "  df_todo.to_gbq(tabla,project_id=project_id,if_exists='replace')\n",
        " \n",
        "  #COEFICIENTES\n",
        "  coeficientes = pd.DataFrame(np.round(coef,decimals=3))\n",
        "  coeficientes.columns=[\"coeficientes\"]\n",
        "  coeficientes[\"index\"] = coeficientes.index.values\n",
        "  tabla_coef = 'dataset.coef_funcion'\n",
        "  coeficientes.to_gbq(tabla_coef,project_id=project_id,if_exists='replace')\n",
        "\n",
        "elif (Actualizar_BigQuery):\n",
        "  print(\"WARNING: Solo se puede actuliza datos del modelo Exponencial\")\n",
        "print(\"\\nOBSERVACIONES:\\nDe acuerdo a las acciones que tome el gobierno los datos se alejaran de la curva del modelo...\\n- ACCIONES EFECTIVAS: Los datos se mueven a la derecha respecto al modelo\\n- ACCIONES NO EFECTIVAS: Los datos siguen la tendencia o se mueven a la izquerda respecto al modelo\")"
      ],
      "execution_count": 278,
      "outputs": [
        {
          "output_type": "stream",
          "text": [
            "R²(modelo): 0.9992\n",
            "MSE: 2727.6293\n",
            "COEFICIENTES MODELO: [ 0.00000000e+00  2.06968459e+04 -2.29308289e+02  8.83348530e-01]\n",
            "\n",
            "PRONOSTICO DE 7 DIAS: [372859. 373716. 374581. 375460. 376357. 377277. 378227. 379210.]\n",
            "\n",
            "OBSERVACIONES:\n",
            "De acuerdo a las acciones que tome el gobierno los datos se alejaran de la curva del modelo...\n",
            "- ACCIONES EFECTIVAS: Los datos se mueven a la derecha respecto al modelo\n",
            "- ACCIONES NO EFECTIVAS: Los datos siguen la tendencia o se mueven a la izquerda respecto al modelo\n"
          ],
          "name": "stdout"
        },
        {
          "output_type": "display_data",
          "data": {
            "image/png": "[encoded data removed]",
            "text/plain": [
              "<Figure size 720x432 with 1 Axes>"
            ]
          },
          "metadata": {
            "tags": [],
            "needs_background": "light"
          }
        }
      ]
    },
    {
      "cell_type": "markdown",
      "metadata": {
        "id": "ivUdy4XEG2l9",
        "colab_type": "text"
      },
      "source": [
        "# **MODELO SIR**"
      ]
    },
    {
      "cell_type": "code",
      "metadata": {
        "id": "TigeRirALzYT",
        "colab_type": "code",
        "cellView": "form",
        "outputId": "53dcb368-25ac-4518-dfe1-8959a927a814",
        "colab": {
          "base_uri": "https://localhost:8080/",
          "height": 440
        }
      },
      "source": [
        "#@title\n",
        "Poblacion =  16e6#@param {type:\"number\"}\n",
        "beta =  0.21#@param {type:\"number\"}\n",
        "gamma =  0.1#@param {type:\"number\"}\n",
        "tiempo = 682 #@param {type:\"slider\", min:50, max:1000, step:1}\n",
        "Exposicion = 1 #@param {type:\"slider\", min:0.1, max:1, step:0.1}\n",
        "beta_test =  0.21#@param {type:\"number\"}\n",
        "modelo_completo = True #@param {type:\"boolean\"}\n",
        "datos_pais = False #@param {type:\"boolean\"}\n",
        "Solo_Suceptibles = False #@param {type:\"boolean\"}\n",
        " \n",
        "N=Poblacion\n",
        "poblacion_expuesta=N/Exposicion\n",
        " \n",
        "#VALORES INICIALES\n",
        "I0,R0 = 1,0\n",
        "S0 = N - I0 - R0\n",
        "Ro = (beta)/(gamma)\n",
        "Ro_test=(beta_test)/(gamma)\n",
        "print('HABITANTES:{:,.0f} || R0={:.3f} \\nPOBLACION EXPUESTA({}%):{:,.0f} || R0={:.3f}'.format(N,Ro,Exposicion*100,N*Exposicion,Ro_test))\n",
        " \n",
        "#GRAFICA\n",
        "plt.figure(figsize=[10,6])\n",
        " \n",
        "if (modelo_completo) and Solo_Suceptibles==False:\n",
        "  t = np.linspace(0,tiempo ,tiempo)\n",
        "  sol_ecuaciones = scipy.integrate.odeint(Modelo_SIR, [S0, I0, R0], t, args=(N,beta, gamma))\n",
        "  plt.ylabel(\"% Población\")\n",
        "  plt.plot(t, sol_ecuaciones[:, 1]/N, label=\"Activos\", color=\"Orange\")\n",
        "  plt.plot(t, sol_ecuaciones[:, 0]/N, label=\"Suceptibles\", color=\"Blue\")\n",
        "  plt.plot(t, sol_ecuaciones[:, 2]/N, label=\"Recuperados\", color=\"Green\")\n",
        "  if Exposicion<1:\n",
        "    sol_ecuaciones2 = scipy.integrate.odeint(Modelo_SIR, [S0, I0, R0], t, args=(poblacion_expuesta,beta_test, gamma))\n",
        "    plt.ylabel(\"% Población\")\n",
        "    plt.plot(t, sol_ecuaciones2[:, 1]/N, color=\"Orange\", alpha=0.4)\n",
        "    plt.plot(t, sol_ecuaciones2[:, 0]/N, color=\"Blue\", alpha=0.4)\n",
        "    plt.plot(t, sol_ecuaciones2[:, 2]/N, color=\"Green\", alpha=0.4) \n",
        "  else:\n",
        "    sol_ecuaciones2 = scipy.integrate.odeint(Modelo_SIR, [S0, I0, R0], t, args=(N,beta_test, gamma))\n",
        "    plt.ylabel(\"% Población\")\n",
        "    plt.plot(t, sol_ecuaciones2[:, 1]/N, color=\"Orange\", alpha=0.4)\n",
        "    plt.plot(t, sol_ecuaciones2[:, 0]/N, color=\"Blue\", alpha=0.4)\n",
        "    plt.plot(t, sol_ecuaciones2[:, 2]/N, color=\"Green\", alpha=0.4) \n",
        " \n",
        "elif Solo_Suceptibles==False:\n",
        "  t = np.linspace(0,tiempo ,tiempo)\n",
        "  sol_ecuaciones = scipy.integrate.odeint(Modelo_SIR, [S0, I0, R0], t, args=(N,beta, gamma))\n",
        "  plt.plot(t, sol_ecuaciones[:, 1], label=\"Modelo-Activos\", color=\"Orange\") \n",
        "  plt.ylabel(\"Activos\")\n",
        "  if Exposicion<1:\n",
        "    sol_ecuaciones2 = scipy.integrate.odeint(Modelo_SIR, [S0, I0, R0], t, args=(poblacion_expuesta,beta_test, gamma)) \n",
        "    plt.plot(t, sol_ecuaciones2[:, 1], color=\"Orange\", alpha=0.4) \n",
        "  else:\n",
        "    sol_ecuaciones2 = scipy.integrate.odeint(Modelo_SIR, [S0, I0, R0], t, args=(N,beta_test, gamma)) \n",
        "    plt.plot(t, sol_ecuaciones2[:, 1], color=\"Orange\", alpha=0.4) \n",
        "  if (datos_pais):\n",
        "    plt.bar(x[0:tiempo+1].flatten(),activos[0:tiempo+1].flatten(), color=\"Blue\",alpha=0.3,label=\"Suceptibles\" )\n",
        " \n",
        "if (Solo_Suceptibles):\n",
        "  plt.ylabel(\"% Población\")\n",
        "  sol_ecuaciones = scipy.integrate.odeint(Modelo_SIR, [S0, I0, R0], t, args=(N,beta, gamma) )\n",
        "  plt.plot(t, sol_ecuaciones[:, 0]/N, label=\"Suceptibles\", color=\"Blue\")\n",
        "  if Exposicion<1:\n",
        "    sol_ecuaciones2 = scipy.integrate.odeint(Modelo_SIR, [S0, I0, R0], t, args=(poblacion_expuesta,beta_test, gamma) )\n",
        "    plt.plot(t, sol_ecuaciones2[:, 0]/N, color=\"Blue\", alpha=0.4)\n",
        "  else:\n",
        "    sol_ecuaciones2 = scipy.integrate.odeint(Modelo_SIR, [S0, I0, R0], t, args=(N,beta_test, gamma) )\n",
        "    plt.plot(t, sol_ecuaciones2[:, 0]/N, color=\"Blue\", alpha=0.4)\n",
        " \n",
        " \n",
        "plt.title(\"SIMULACIÓN - MODELO SIR\")\n",
        "plt.xlabel(\"días\")\n",
        "plt.grid()\n",
        "plt.legend()\n",
        "plt.show()"
      ],
      "execution_count": 0,
      "outputs": [
        {
          "output_type": "stream",
          "text": [
            "HABITANTES:16,000,000 || R0=2.100 \n",
            "POBLACION EXPUESTA(100%):16,000,000 || R0=2.100\n"
          ],
          "name": "stdout"
        },
        {
          "output_type": "display_data",
          "data": {
            "image/png": "[encoded data removed]",
            "text/plain": [
              "<Figure size 720x432 with 1 Axes>"
            ]
          },
          "metadata": {
            "tags": [],
            "needs_background": "light"
          }
        }
      ]
    },
    {
      "cell_type": "markdown",
      "metadata": {
        "id": "0wpc-AR3Izcs",
        "colab_type": "text"
      },
      "source": [
        "# **MODELO SEIR**"
      ]
    },
    {
      "cell_type": "code",
      "metadata": {
        "id": "FhriJBKRNhJW",
        "colab_type": "code",
        "cellView": "form",
        "colab": {}
      },
      "source": [
        "#@title\n",
        "Poblacion =  16e6#@param {type:\"number\"}\n",
        "beta =  0.4#@param {type:\"number\"}\n",
        "gamma =  0.07#@param {type:\"number\"}\n",
        "epsilon =  0.2#@param {type:\"number\"}\n",
        "tiempo2 = 755 #@param {type:\"slider\", min:50, max:1000, step:1}\n",
        "modelo_completo = True #@param {type:\"boolean\"}\n",
        "N=Poblacion\n",
        " \n",
        "#VALORES INICIALES\n",
        "I0,R0,E0 = 1,0,0\n",
        "S0 = N - I0 - R0 - E0\n",
        "Ro = (beta)/(gamma)\n",
        "B,mu=0,0.02\n",
        "print('R0 ={:.3f} \\nHABITANTES:{:,.0f}'.format(Ro,N) )\n",
        " \n",
        " \n",
        "#GRAFICA\n",
        "plt.figure(figsize=[10,6])\n",
        " \n",
        "if (modelo_completo):\n",
        "  t = np.linspace(0,tiempo2 ,tiempo2)\n",
        "  sol_ecuaciones = scipy.integrate.odeint(Modelo_SEIR, [S0, E0, I0, R0], t, args=(N,beta,gamma,epsilon,mu,B) )\n",
        "  plt.ylabel(\"% Población\")\n",
        "  plt.plot(t, sol_ecuaciones[:, 0]/N, label=\"Suceptibles\", color=\"Blue\")\n",
        "  plt.plot(t, sol_ecuaciones[:, 1]/N, label=\"Expuestos\", color=\"Red\")\n",
        "  plt.plot(t, sol_ecuaciones[:, 2]/N, label=\"Infectados\", color=\"Orange\")\n",
        "  plt.plot(t, sol_ecuaciones[:, 3]/N, label=\"Recuperados\", color=\"Green\")\n",
        "plt.title(\"SIMULACIÓN - MODELO SEIR\")\n",
        "plt.xlabel(\"días\")\n",
        "plt.grid()\n",
        "plt.legend()\n",
        "plt.show()"
      ],
      "execution_count": 0,
      "outputs": []
    },
    {
      "cell_type": "code",
      "metadata": {
        "id": "XydXlqtRCDH-",
        "colab_type": "code",
        "cellView": "form",
        "colab": {}
      },
      "source": [
        "def Modelo_SEIS(y,t,N,beta, gamma,epsilon,mu,B):\n",
        "  S, E, I = y\n",
        "  dS = (-beta*S*I + gamma*I)/N\n",
        "  dE = (beta*S*I)/N - epsilon*E\n",
        "  dI = epsilon*E - gamma*I \n",
        "  return ([dS, dE, dI])\n",
        "\n",
        "\n",
        "\n",
        "Poblacion =  16e6#@param {type:\"number\"}\n",
        "beta =  0.4#@param {type:\"number\"}\n",
        "gamma =  0.07#@param {type:\"number\"}\n",
        "epsilon =  0.2#@param {type:\"number\"}\n",
        "tiempo2 = 601 #@param {type:\"slider\", min:50, max:1000, step:1}\n",
        "modelo_completo = True #@param {type:\"boolean\"}\n",
        "N=Poblacion\n",
        " \n",
        "#VALORES INICIALES\n",
        "I0,R0,E0 = 1,0,0\n",
        "S0 = N - I0 - R0 - E0\n",
        "Ro = (beta)/(gamma)\n",
        "B,mu=0,0.02\n",
        "print('R0 ={:.3f} \\nHABITANTES:{:,.0f}'.format(Ro,N) )\n",
        " \n",
        " \n",
        "#GRAFICA\n",
        "plt.figure(figsize=[10,6])\n",
        " \n",
        "if (modelo_completo):\n",
        "  t = np.linspace(0,tiempo2 ,tiempo2)\n",
        "  sol_ecuaciones = scipy.integrate.odeint(Modelo_SEIS, [S0, E0, I0], t, args=(N,beta,gamma,epsilon,mu,B) )\n",
        "  plt.ylabel(\"% Población\")\n",
        "  plt.plot(t, sol_ecuaciones[:, 0]/N, label=\"Suceptibles\", color=\"Blue\")\n",
        "  plt.plot(t, sol_ecuaciones[:, 1]/N, label=\"Expuestos\", color=\"Red\")\n",
        "  plt.plot(t, sol_ecuaciones[:, 2]/N, label=\"Infectados\", color=\"Orange\")\n",
        "plt.title(\"SIMULACIÓN - MODELO SEIS\")\n",
        "plt.xlabel(\"días\")\n",
        "plt.grid()\n",
        "plt.legend()\n",
        "plt.show()"
      ],
      "execution_count": 0,
      "outputs": []
    },
    {
      "cell_type": "markdown",
      "metadata": {
        "id": "VO1Px7HJHvuX",
        "colab_type": "text"
      },
      "source": [
        "# **REFERENCIAS**\n",
        "https://es.wikipedia.org/wiki/Modelaje_matem%C3%A1tico_de_epidemias\n",
        "\n",
        "https://ajph.aphapublications.org/doi/pdf/10.2105/AJPH.2013.301704s\n",
        "\n",
        "https://institucional.us.es/blogimus/2020/03/covid-19-analisis-por-medio-de-un-modelo-seir/\n"
      ]
    }
  ]
}