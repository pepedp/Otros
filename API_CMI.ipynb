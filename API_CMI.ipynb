{
  "nbformat": 4,
  "nbformat_minor": 0,
  "metadata": {
    "colab": {
      "name": "API_CMI.ipynb",
      "provenance": [],
      "collapsed_sections": [],
      "authorship_tag": "ABX9TyP1m+Sa4OC2OiD5qmJv5GSR",
      "include_colab_link": true
    },
    "kernelspec": {
      "name": "python3",
      "display_name": "Python 3"
    }
  },
  "cells": [
    {
      "cell_type": "markdown",
      "metadata": {
        "id": "view-in-github",
        "colab_type": "text"
      },
      "source": [
        "<a href=\"https://colab.research.google.com/github/pepedp/Otros/blob/master/API_CMI.ipynb\" target=\"_parent\"><img src=\"https://colab.research.google.com/assets/colab-badge.svg\" alt=\"Open In Colab\"/></a>"
      ]
    },
    {
      "cell_type": "code",
      "metadata": {
        "id": "ftJ3OYbRxUMI",
        "colab": {
          "base_uri": "https://localhost:8080/"
        },
        "collapsed": true,
        "cellView": "form",
        "outputId": "44e42ca8-770f-429d-f850-f7810cc135f0"
      },
      "source": [
        "#@title FUNCIONES \n",
        "import requests\n",
        "import pandas as pd\n",
        "import numpy as np\n",
        "import json\n",
        "!mkdir archivos \n",
        "!mkdir salida \n",
        "\n",
        "path= '/content/archivos/'\n",
        "usuario, token = 'CMI','CMITOKEN'\n",
        "\n",
        "#Funcion coexion API   \n",
        "def API(fecha_inicio, ficha_fin, nombre_tabla, archivo=0, path=path):\n",
        "  url = \"https://visvivadata.com//api/db\"\n",
        "  \n",
        "  #Conexion a la BD de \n",
        "  parametros = {'start': fecha_inicio, 'end': ficha_fin, \n",
        "        'table': nombre_tabla, \n",
        "        'user': usuario, 'token': token}\n",
        "  data_json = requests.post(url, parametros).json()  \n",
        "  data = pd.json_normalize(data_json[\"data\"],\"data\")\n",
        "  \n",
        "  #Guardar archivos \n",
        "  # 0 = Guarda archivo .csv y .json \n",
        "  # 1 = Guarda archivo .csv\n",
        "  # 2 = Guarda archivo .json \n",
        "\n",
        "  if archivo == 0:\n",
        "    data.to_csv(path+nombre_tabla+'.csv',index=None)\n",
        "    with open(path+nombre_tabla+'.json', 'w') as file:\n",
        "      json.dump(data_json, file, indent=4)\n",
        "  \n",
        "  else:\n",
        "    if archivo == 1:\n",
        "      data.to_csv(path+nombre_tabla+'.csv',index=None)\n",
        "\n",
        "    if archivo == 2:\n",
        "      with open(path+nombre_tabla+'.json', 'w') as file:\n",
        "        json.dump(data_json, file, indent=4)   \n",
        "\n",
        "  return data\n",
        "\n",
        "\n",
        "#Funcion para comprimir los archivos \n",
        "def comprimir_archivos(nombre_archivo=\"ArchivosVisViva\",extension=\".csv\",directorio=path):\n",
        "  import os\n",
        "  import zipfile\n",
        "  \n",
        "  archivos_zip = zipfile.ZipFile(directorio + nombre_archivo + '.zip', 'w')\n",
        "  for folder, subfolders, files in os.walk(directorio):\n",
        "      for file in files:\n",
        "          if file.endswith(extension):\n",
        "              archivos_zip.write(os.path.join(folder, file), \n",
        "                                os.path.relpath(os.path.join(folder,file), directorio), \n",
        "                                compress_type = zipfile.ZIP_DEFLATED)  \n",
        "  archivos_zip.close()"
      ],
      "execution_count": null,
      "outputs": [
        {
          "output_type": "stream",
          "text": [
            "mkdir: cannot create directory ‘archivos’: File exists\n",
            "mkdir: cannot create directory ‘salida’: File exists\n"
          ],
          "name": "stdout"
        }
      ]
    },
    {
      "cell_type": "code",
      "metadata": {
        "id": "KGnuVNkwx8qC"
      },
      "source": [
        "#CONSULTAR UNA TABLA\n",
        "tabla = 'TransaccionesContratosEOR'\n",
        "datos=API_VisViVa('25/01/2021','02/02/2021',tabla)\n",
        "datos"
      ],
      "execution_count": null,
      "outputs": []
    },
    {
      "cell_type": "code",
      "metadata": {
        "id": "qPdyaTpQKOga"
      },
      "source": [
        "#CONSULTAR MULTIPLES TABLAS \n",
        "tablas_api=pd.read_excel(\"VisViva.xlsx\")\n",
        "tablas_api=np.array(tablas_api[\"tabla\"])\n",
        "fecha_ini, fecha_fin = '25/01/2021','02/02/2021'\n",
        "\n",
        "for nombre_tabla in range(0,len(tablas_api) ):\n",
        "  datos=API(fecha_ini, fecha_fin,tablas_api[nombre_tabla],1)\n",
        "  print(\"Archivo Creado - Tabla: {} ({:,.0f} registros)\".format(tablas_api[nombre_tabla],len(datos)) )\n",
        "comprimir_archivos()\n",
        "print(\"{} tablas procesadas ...\".format(nombre_tabla+1) )"
      ],
      "execution_count": null,
      "outputs": []
    }
  ]
}