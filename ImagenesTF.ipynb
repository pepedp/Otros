{
  "nbformat": 4,
  "nbformat_minor": 0,
  "metadata": {
    "colab": {
      "name": "ImagenesTF.ipynb",
      "provenance": [],
      "collapsed_sections": [
        "f2pv0ZSHo4Gy",
        "o48-a_k0mznk",
        "blmYmUfA5qxI",
        "8QpO_smSGV9u",
        "ZPk2OFNtGl_0"
      ],
      "toc_visible": true,
      "authorship_tag": "ABX9TyN56aQdWnGAI8YoFiAHCYz3",
      "include_colab_link": true
    },
    "kernelspec": {
      "name": "python3",
      "display_name": "Python 3"
    },
    "accelerator": "GPU"
  },
  "cells": [
    {
      "cell_type": "markdown",
      "metadata": {
        "id": "view-in-github",
        "colab_type": "text"
      },
      "source": [
        "<a href=\"https://colab.research.google.com/github/pepedp/COVID-19/blob/master/ImagenesTF.ipynb\" target=\"_parent\"><img src=\"https://colab.research.google.com/assets/colab-badge.svg\" alt=\"Open In Colab\"/></a>"
      ]
    },
    {
      "cell_type": "markdown",
      "metadata": {
        "id": "9nRXDrUQCe89",
        "colab_type": "text"
      },
      "source": [
        "![texto alternativo](https://soyoungpark.github.io/assets/images/tensorflowtraffic/tf.png)\n",
        "\n",
        "REFERENCIA - TENSORFLOW: \n",
        "\n",
        " - https://www.tensorflow.org/tutorials/keras/classification \n",
        "\n",
        "\n",
        "REFERENCIA - KERAS: \n",
        "\n",
        " - https://torres.ai/deep-learning-inteligencia-artificial-keras/\n",
        "\n",
        " - https://torres.ai/deep-learning-inteligencia-artificial-keras-2a-parte/\n",
        "\n",
        "\n",
        "\n"
      ]
    },
    {
      "cell_type": "markdown",
      "metadata": {
        "id": "M8_XP9mdhix5",
        "colab_type": "text"
      },
      "source": [
        "**Descripción del Ejemplo**\n",
        "\n",
        "El laboratorio consiste en crear una Inteligencia Artificial capas de categorizar imagenes"
      ]
    },
    {
      "cell_type": "markdown",
      "metadata": {
        "id": "f2pv0ZSHo4Gy",
        "colab_type": "text"
      },
      "source": [
        "# Carga datos"
      ]
    },
    {
      "cell_type": "code",
      "metadata": {
        "id": "e04Wf080iSbx",
        "colab_type": "code",
        "cellView": "form",
        "colab": {}
      },
      "source": [
        "#@title Librerias y Funciones \n",
        "import tensorflow as tf\n",
        "import numpy as np\n",
        "import pandas as pd\n",
        "from sklearn.metrics import confusion_matrix\n",
        "import matplotlib.pyplot as plt\n",
        "\n",
        "import os\n",
        "import zipfile\n",
        "from tqdm import tqdm_notebook\n",
        "from tensorflow.keras.preprocessing.image import ImageDataGenerator #Procesado de imagenes \n",
        "\n",
        "%matplotlib inline\n",
        "\n",
        "\n",
        "from google.colab import drive\n",
        "drive.mount('/content/drive')\n",
        " \n",
        "#Funcion para desplegar imagenes \n",
        "clasificacion=[]\n",
        "def plot_image(i, predictions_array, true_label, img):\n",
        "  predictions_array, true_label, img = predictions_array, true_label[i], img[i]\n",
        "  plt.grid(False)\n",
        "  plt.xticks([])\n",
        "  plt.yticks([])\n",
        " \n",
        "  plt.imshow(img, cmap=plt.cm.binary)\n",
        " \n",
        "  predicted_label = np.argmax(predictions_array)\n",
        "  if predicted_label == true_label:\n",
        "    color = 'blue'\n",
        "  else:\n",
        "    color = 'red'\n",
        " \n",
        "  plt.xlabel(\"{} {:2.0f}% ({})\".format(clasificacion[predicted_label],\n",
        "                                100*np.max(predictions_array),\n",
        "                                clasificacion[true_label]),\n",
        "                                color=color)\n",
        " \n",
        "def plot_value_array(i, predictions_array, true_label):\n",
        "  predictions_array, true_label = predictions_array, true_label[i]\n",
        "  plt.grid(False)\n",
        "  plt.xticks(range(10))\n",
        "  plt.yticks([])\n",
        "  thisplot = plt.bar(range(10), predictions_array, color=\"#777777\")\n",
        "  plt.ylim([0, 1])\n",
        "  predicted_label = np.argmax(predictions_array)\n",
        " \n",
        "  thisplot[predicted_label].set_color('red')\n",
        "  thisplot[true_label].set_color('blue')\n",
        "\n",
        "#Funcion para ajustar registro grafico barras \n",
        "def autolabel(rects):\n",
        "  for rect in rects:\n",
        "      height = rect.get_height()\n",
        "      plt.annotate('{}'.format(height),\n",
        "                  xy=(rect.get_x() + rect.get_width() / 2, height),\n",
        "                  xytext=(0, 3),  # 3 points vertical offset\n",
        "                  textcoords=\"offset points\",\n",
        "                  ha=\"center\", va='bottom')"
      ],
      "execution_count": null,
      "outputs": []
    },
    {
      "cell_type": "code",
      "metadata": {
        "id": "LBIol_bUiYSg",
        "colab_type": "code",
        "cellView": "form",
        "colab": {}
      },
      "source": [
        "#@title Cargar imagenes \n",
        "dataset_numeros = False #@param {type:\"boolean\"}\n",
        "dataset_transporte = True #@param {type:\"boolean\"}\n",
        "imag_mostrar = 15 #@param {type:\"slider\", min:5, max:100, step:5}\n",
        " \n",
        "if (dataset_numeros):\n",
        "  nombre_dataset=\"mnist\"\n",
        "  dataset_imagenes = tf.keras.datasets.mnist #Dataset que ya vienen en la libreria Tensoflow.keras\n",
        "  clasificacion = ['Cero','Uno', 'Dos', 'tres', 'Cuatro', \n",
        "                   'Cinco','Seis', 'Siete', 'Ocho', 'Nueve']\n",
        "elif(dataset_transporte):\n",
        "  nombre_dataset=\"cifar10\"\n",
        "  dataset_imagenes = tf.keras.datasets.cifar10 \n",
        "  clasificacion = ['avión', 'coche', 'pájaro', 'gato', 'ciervo', \n",
        "                   'perro', 'rana', 'caballo', 'barco', 'camión']\n",
        "else:\n",
        "  nombre_dataset=\"fashion_mnist\"\n",
        "  dataset_imagenes=tf.keras.datasets.fashion_mnist\n",
        "  clasificacion = ['Camiseta/top', 'Pantalón', 'Suéter', 'Vestido', 'Saco',\n",
        "                   'Sandalia', 'Camisa', 'Sneaker', 'Bolso', 'Botín']\n",
        " \n",
        "  \"\"\"clasificacion = ['T-shirt/top', 'Trouser', 'Pullover', 'Dress', 'Coat',\n",
        "                   'Sandal', 'Shirt', 'Sneaker', 'Bag', 'Ankle boot']\"\"\"\n",
        " \n",
        "(x_train, y_train), (x_test, y_test) = dataset_imagenes.load_data()\n",
        "tipo_imagen=\"a color (RBG)\" if x_train.ndim>3 else \"en escala de grises\"\n",
        "y_train,y_test=y_train.flatten(),y_test.flatten()\n",
        "print(\"DATASET: {}\".format(nombre_dataset) )\n",
        "print(\"\"\"ENTRENAMIENTO: \\nx_train: Dimension del array[{}] | Shape:[{}] \n",
        "y_train: Dimension del array[{}] | Shape:[{}] \n",
        "\\nTEST \\nx_test: Dimension del array[{}] | Shape:[{}] \n",
        "y_test: Dimension del array[{}] | Shape:[{}] \n",
        "\\nRESUMEN\n",
        " - Tamaño de cada imagen {}x{} píxeles {}\n",
        " - {:,.0f} imagenes de entrenamieno\n",
        " - {:,.0f} imagenes de test \n",
        " - y_train & y_test contienen la categoria que pertenece la imagen (10 categorias)\n",
        "\"\"\".format(x_train.ndim,x_train.shape,\n",
        "           y_train.ndim,y_train.shape,\n",
        "           x_test.ndim,x_test.shape,\n",
        "           y_test.ndim,y_test.shape,\n",
        "           x_train.shape[1],x_train.shape[2],tipo_imagen,\n",
        "           x_train.shape[0],\n",
        "           x_test.shape[0]           \n",
        "           ))\n",
        "#imag_mostrar=200\n",
        "alto, ancho = 10,imag_mostrar/2\n",
        "print(\"Primeras {} imagenes\".format(imag_mostrar))\n",
        "fig=plt.figure(figsize=(alto,ancho))\n",
        "for i in range(imag_mostrar):\n",
        "    ax=fig.add_subplot(imag_mostrar/5,5,i+1)\n",
        "    ax.xaxis.label.set_color(\"white\")\n",
        "    plt.xticks([])\n",
        "    plt.yticks([])\n",
        "    plt.grid(False)\n",
        "    plt.imshow(x_train[i], cmap=plt.cm.binary)\n",
        "    plt.xlabel(clasificacion[y_train[i]] )\n",
        "plt.show()\n",
        "print(\"Respuesta: {}\".format(y_train[:imag_mostrar]))"
      ],
      "execution_count": null,
      "outputs": []
    },
    {
      "cell_type": "code",
      "metadata": {
        "id": "e0c--gSQrA6E",
        "colab_type": "code",
        "cellView": "form",
        "colab": {}
      },
      "source": [
        "#@title Datos de la imagen \n",
        "Numero_imagen =  1#@param {type:\"integer\"}\n",
        "if Numero_imagen!=0:\n",
        "  np.set_printoptions(edgeitems=5, linewidth=1000, \n",
        "      formatter=dict(float=lambda x: \"%.3g\" % x))\n",
        "  print(\"Respuesta: {}\".format(y_train[Numero_imagen-1:Numero_imagen]) )\n",
        "  print(x_train[Numero_imagen-1])\n",
        "else:\n",
        "  print(\"Imagen cero no existe, debe ser mayor a cero\")"
      ],
      "execution_count": null,
      "outputs": []
    },
    {
      "cell_type": "markdown",
      "metadata": {
        "id": "o48-a_k0mznk",
        "colab_type": "text"
      },
      "source": [
        "# Redimensionar el dataset"
      ]
    },
    {
      "cell_type": "code",
      "metadata": {
        "id": "WTiKTtr_mRBb",
        "colab_type": "code",
        "colab": {}
      },
      "source": [
        "x_train, x_test = x_train / 255.0, x_test / 255.0"
      ],
      "execution_count": 48,
      "outputs": []
    },
    {
      "cell_type": "markdown",
      "metadata": {
        "id": "3xBa-qAEmTW6",
        "colab_type": "text"
      },
      "source": [
        "**Imagenes escala de grises**\n",
        "\n",
        "En una imagen en escala de grises cada píxel de la imagen se almacena en un Byte, donde su valor numérico representa su tono, que puede oscilar entre el blanco (255) y el negro (0). Esto quiere decir que es una imagen donde existen 256 tonos de gris (de 0 a 255, ambos inclusive). Es decir, la profundidad de color es el número de bits que definen cada píxel, que determinan el máximo numero de colores que puede tener.\n",
        "\n",
        "En fotografía digital hay 2 tipos de imagen, de forma similar a la tradicional: escala de grises y color. La primera se denomina “escala de grises” precisamente para diferenciarla del blanco y negro donde solo existen 2 tonos, el blanco y el negro. Esta última (la imagen de blanco y negro) es una imagen con 1 bit por píxel. Cuantos más bits definan cada píxel, más tonos podrá tener: si tiene 4 bits por píxel, tendrá 16 grises y si tiene 2 bits tendrá 4 grises.\n",
        "\n",
        "**Imagenes a color**\n",
        "\n",
        "Una imagen digital en color se genera con sus componentes R, G y B por síntesis aditiva. Así pues, la imagen en color se compone de 3 “imágenes”: la que contiene la parte roja, la verde y la azul. Cada una de ellas es una imagen en escala de grises, pero como va asociada a cada uno de los colores primarios, al visionarla el ordenador la colorea adecuadamente. La suma de las 3, por síntesis aditiva, componen la imagen final. Cada píxel va definido por 3 Bytes: el rojo, el verde y el azul. Si cada uno de ellos tiene una gama de 256 tonos, en la imagen final habrá una gama de 16,777.216 colores posibles (256 x 256 x 256), que se suele abreviar como “16 millones de colores”. Es lo que se llama una imagen con una profundidad de color de 24 bits (8 por cada color).\n",
        "\n",
        "\n",
        "\n",
        "\n",
        "**Redimensionar**\n",
        "\n",
        "\n",
        "1.   Dividimos cada imagen en los conjunto de entrenamiento y  de testing entre el valor máximo de cada uno de los píxeles (255).\n",
        "2.   De este modo, cada píxel se hallará en el rango [0, 1]. Al normalizar las imágenes, nos aseguramos que nuestro modelo de RNA entrenará más rápidamente.\n",
        "\n",
        "\n",
        "\n",
        "\n"
      ]
    },
    {
      "cell_type": "markdown",
      "metadata": {
        "id": "blmYmUfA5qxI",
        "colab_type": "text"
      },
      "source": [
        "# Crear la Red Neuronal "
      ]
    },
    {
      "cell_type": "markdown",
      "metadata": {
        "id": "p5t2kxG0qeGs",
        "colab_type": "text"
      },
      "source": [
        "**Arquitectura de la red Neuronal**\n",
        "\n",
        " - RNA: Arquitectura de Red Neuronal Artificial, \n",
        " - RNC: Arquitectura de Red Neuronal Convolucional"
      ]
    },
    {
      "cell_type": "code",
      "metadata": {
        "id": "fxU8pRjc4Ii9",
        "colab_type": "code",
        "cellView": "form",
        "colab": {}
      },
      "source": [
        "#@title Crear Red Neuronal\n",
        "RNA = False #@param {type:\"boolean\"}\n",
        "RNC = True #@param {type:\"boolean\"}\n",
        "\n",
        "\n",
        "if RNC==True and RNA==False:\n",
        "  modelo = tf.keras.models.Sequential()\n",
        "  if x_train.ndim<4:\n",
        "    modelo.add(tf.keras.layers.Conv1D(filters=28, kernel_size=3, padding=\"same\", activation=\"relu\", \n",
        "                                      input_shape=[x_train.shape[1], x_train.shape[2]]) )\n",
        "    modelo.add(tf.keras.layers.Conv1D(filters=28, kernel_size=3, padding=\"same\", activation=\"relu\"))\n",
        "    modelo.add(tf.keras.layers.MaxPool1D(pool_size=2, strides=2, padding='valid'))\n",
        "    modelo.add(tf.keras.layers.Conv1D(filters=56, kernel_size=3, padding=\"same\", activation=\"relu\"))\n",
        "    modelo.add(tf.keras.layers.Conv1D(filters=56, kernel_size=3, padding=\"same\", activation=\"relu\"))\n",
        "    modelo.add(tf.keras.layers.MaxPool1D(pool_size=2, strides=2, padding='valid'))\n",
        "    modelo.add(tf.keras.layers.Flatten())\n",
        "    modelo.add(tf.keras.layers.Dense(units=128, activation='relu'))\n",
        "    modelo.add(tf.keras.layers.Dropout(0.3))\n",
        "    modelo.add(tf.keras.layers.Dense(units=10, activation='softmax'))\n",
        "    modelo.compile(optimizer='adam', loss='sparse_categorical_crossentropy', metrics=['sparse_categorical_accuracy'])\n",
        "    modelo.summary()\n",
        "    \n",
        "  else:\n",
        "    modelo.add(tf.keras.layers.Conv2D(filters=32, kernel_size=3, padding=\"same\", activation=\"relu\", \n",
        "                                      input_shape=[x_train.shape[1], x_train.shape[2],x_train.shape[3]]) )  \n",
        "    #modelo.add(tf.keras.layers.Conv2D(filters=32, kernel_size=3, padding=\"same\", activation=\"relu\", input_shape=[32, 32, 3]) )\n",
        "    modelo.add(tf.keras.layers.Conv2D(filters=32, kernel_size=3, padding=\"same\", activation=\"relu\"))\n",
        "    modelo.add(tf.keras.layers.MaxPool2D(pool_size=2, strides=2, padding='valid'))\n",
        "    modelo.add(tf.keras.layers.Conv2D(filters=64, kernel_size=3, padding=\"same\", activation=\"relu\"))\n",
        "    modelo.add(tf.keras.layers.Conv2D(filters=64, kernel_size=3, padding=\"same\", activation=\"relu\"))\n",
        "    modelo.add(tf.keras.layers.MaxPool2D(pool_size=2, strides=2, padding='valid'))\n",
        "    modelo.add(tf.keras.layers.Flatten())\n",
        "    modelo.add(tf.keras.layers.Dense(units=300, activation='relu'))\n",
        "    modelo.add(tf.keras.layers.Dropout(0.2))\n",
        "    modelo.add(tf.keras.layers.Dense(units=300, activation='relu'))\n",
        "    modelo.add(tf.keras.layers.Dropout(0.2))\n",
        "    modelo.add(tf.keras.layers.Dense(units=200, activation='relu'))\n",
        "    #modelo.add(tf.keras.layers.Dropout(0.3))\n",
        "    modelo.add(tf.keras.layers.Dense(units=10, activation='softmax'))\n",
        "    modelo.compile(optimizer='adam', loss='sparse_categorical_crossentropy', metrics=['sparse_categorical_accuracy'])\n",
        "    modelo.summary()\n",
        "  \n",
        "elif RNC==False and RNA==True:\n",
        "  modelo = tf.keras.models.Sequential() #inicializamos el modelo (Creamos el objeto modelo) \n",
        "  if x_train.ndim<4:\n",
        "    modelo.add(tf.keras.layers.Flatten(input_shape=(x_train.shape[1], x_train.shape[2]) )) #784 Variables de entrada espera la Red Neuronal (28*28=784)\n",
        "  else:\n",
        "    modelo.add(tf.keras.layers.Flatten(input_shape=(x_train.shape[1], x_train.shape[2],x_train.shape[3]) ))\n",
        "  modelo.add(tf.keras.layers.Dense(128, activation='relu')) #128 Neuronas, función de activación Relu\n",
        "  modelo.add(tf.keras.layers.Dropout(0.3))  #Neuronas que desactivamos para el entrenamiento (20%) evitar overfitting\n",
        "  modelo.add(tf.keras.layers.Dense(10)) #La salida = 10; que es igual a la cantidad de clasificaciones del dataset\n",
        "  modelo.add(tf.keras.layers.Dense(units=10, activation='softmax')) #Función de salida para la clasificación y probabilidad\n",
        "  modelo.compile(optimizer='adam', loss='sparse_categorical_crossentropy', metrics=['sparse_categorical_accuracy'])\n",
        "  modelo.summary()\n",
        "\n",
        "else:\n",
        "  print (\"Solo seleccionar solo una arquitectura\")"
      ],
      "execution_count": null,
      "outputs": []
    },
    {
      "cell_type": "code",
      "metadata": {
        "id": "lzW7c-6ntPp-",
        "colab_type": "code",
        "cellView": "form",
        "colab": {}
      },
      "source": [
        "#@title Entrenar a la Red Neuronal\n",
        "Entrenamiento =  15#@param {type:\"number\"}\n",
        "Validacion = True #@param {type:\"boolean\"}\n",
        "\n",
        "if (Validacion):\n",
        "  modelo.fit(x_train, y_train, epochs=Entrenamiento,validation_data=(x_test, y_test))\n",
        "else:\n",
        "  modelo.fit(x_train, y_train, epochs=Entrenamiento)\n",
        "\n",
        "#GRAFICO\n",
        "tipo_arq=\"RNA\" if (RNA) else \"RNC\"\n",
        "plt.figure(figsize=(10,6), facecolor=\"#E8E1E0\")\n",
        "plt.axes(facecolor='#E8E1E0')\n",
        "plt.plot(modelo.history.history['sparse_categorical_accuracy'])  \n",
        "plt.plot(modelo.history.history['val_sparse_categorical_accuracy'],'g')  \n",
        "plt.xticks(np.arange(0, Entrenamiento+1, 1)) \n",
        "plt.xlabel(\"Numero de entrenamientos\")  \n",
        "plt.ylabel(\"Exactitud\")  \n",
        "plt.title(\"Resultados entrenamiento de la {}\".format(tipo_arq) )  \n",
        "plt.grid(color='white')\n",
        "plt.legend(['Imagenes Entrenamiento','Imagenes Test'])\n"
      ],
      "execution_count": null,
      "outputs": []
    },
    {
      "cell_type": "markdown",
      "metadata": {
        "id": "8QpO_smSGV9u",
        "colab_type": "text"
      },
      "source": [
        "# Examen de la Red Neuronal"
      ]
    },
    {
      "cell_type": "markdown",
      "metadata": {
        "id": "GOo050ihBM9E",
        "colab_type": "text"
      },
      "source": [
        "**Resultados de la Red Neuronal con los datos de Test**"
      ]
    },
    {
      "cell_type": "code",
      "metadata": {
        "id": "L7WB-3eAtpNH",
        "colab_type": "code",
        "cellView": "form",
        "colab": {}
      },
      "source": [
        "#@title Ejecutar Examen\n",
        "predictions=modelo.predict(x_test) #prediccion para imagenes\n",
        "y_pred_proba = modelo.predict_proba(x_test)  #prediccion probabilidad \n",
        "metricas=modelo.evaluate(x_test,  y_test, verbose=2)\n",
        "print(\"\"\"Exactitud: [{}]\"\"\".format(np.round(metricas[1], decimals=4)) )\n",
        "print(\"\\nMATRIZ DE CONFUSION: \")\n",
        "\n",
        "#MATRIZ DE CONFUSION\n",
        "y_pred = modelo.predict_classes(x_test)\n",
        "mc=pd.crosstab(y_test, y_pred)\n",
        "mc.columns=clasificacion\n",
        "\n",
        "#Generar la exactitud de la Matriz de Confusion \n",
        "prob_mc,i=[],0\n",
        "for i in range (len(mc.iloc[:].values)):\n",
        "  prob_mc.append( (mc.iloc[i,i:i+1].values/sum(mc.iloc[i].values))*100 )\n",
        "\n",
        "#Union de Dataframes\n",
        "matriz_confusion=pd.concat([pd.DataFrame(clasificacion,columns=[\"categoría\"]),\n",
        "                mc,pd.DataFrame(prob_mc,columns=[\"Exactitud(%)\"])],axis=1)\n",
        "\n",
        "#GRAFICO\n",
        "tipo_arq=\"RNA\" if (RNA) else \"RNC\"\n",
        "plt.figure(figsize=(16,3), facecolor=\"#E8E1E0\")\n",
        "#plt.xticks(np.arange(0, Entrenamiento+1, 1)) \n",
        "plt.title(\"Matriz de Confusión {}\".format(tipo_arq) )  \n",
        "plt.ylabel(\"Exactitud(%)\")  \n",
        "autolabel(plt.bar(clasificacion,np.round(np.array(prob_mc).flatten(),decimals=0),\n",
        "                color=\"#5AADF2\") )\n",
        "\n",
        "\n",
        "matriz_confusion"
      ],
      "execution_count": null,
      "outputs": []
    },
    {
      "cell_type": "code",
      "metadata": {
        "id": "VFweYwdv2JHo",
        "colab_type": "code",
        "cellView": "form",
        "colab": {}
      },
      "source": [
        "#@title Guardar resultados del examen \n",
        "path,nom_archivo1,nom_archivo2=\"/content/drive/My Drive/Dataset/\",\"R_ImagenesTF.csv\",\"MC_ImagenesTF.csv\"\n",
        "pd.DataFrame(y_pred_proba,y_test).to_csv(path+nom_archivo1)\n",
        "matriz_confusion.to_csv(path+nom_archivo2)\n",
        "print(\"\"\"Archivo Detalle generado: {}{} \n",
        "\\nArchivo Matriz confusión generado: {}{}\"\"\".format(\n",
        "    path,nom_archivo1,\n",
        "    path,nom_archivo2) )"
      ],
      "execution_count": null,
      "outputs": []
    },
    {
      "cell_type": "code",
      "metadata": {
        "id": "xCc1det892-q",
        "colab_type": "code",
        "cellView": "form",
        "colab": {}
      },
      "source": [
        "#@title Procesar una Imagen \n",
        "posicion_imagen =  50#@param {type:\"integer\"}\n",
        "i = posicion_imagen\n",
        "plt.figure(figsize=(6,3))\n",
        "plt.subplot(1,2,1)\n",
        "plot_image(i, predictions[i], y_test, x_test)\n",
        "plt.subplot(1,2,2)\n",
        "plot_value_array(i, predictions[i], y_test)\n",
        "plt.show()"
      ],
      "execution_count": null,
      "outputs": []
    },
    {
      "cell_type": "code",
      "metadata": {
        "id": "UGzKX3muEHtK",
        "colab_type": "code",
        "cellView": "form",
        "colab": {}
      },
      "source": [
        "#@title Procesar varias imagenes \n",
        "num_rows =  50#@param {type:\"integer\"}\n",
        "ini_imagen =  0#@param {type:\"integer\"}\n",
        "num_cols=5\n",
        "\n",
        "num_images = num_rows*num_cols\n",
        "plt.figure(figsize=(2*2*num_cols, 2*num_rows))\n",
        "for i in range(num_images):\n",
        "  plt.subplot(num_rows, 2*num_cols, 2*i+1)\n",
        "  plot_image(i+ini_imagen, predictions[i+ini_imagen], y_test, x_test)\n",
        "  plt.subplot(num_rows, 2*num_cols, 2*i+2)\n",
        "  plot_value_array(i+ini_imagen, predictions[i+ini_imagen], y_test)\n",
        "plt.tight_layout()\n",
        "plt.show()"
      ],
      "execution_count": null,
      "outputs": []
    },
    {
      "cell_type": "markdown",
      "metadata": {
        "id": "ZPk2OFNtGl_0",
        "colab_type": "text"
      },
      "source": [
        "# Guardar Red Neuronal entrenada"
      ]
    },
    {
      "cell_type": "code",
      "metadata": {
        "id": "WR9Jywo7CLZk",
        "colab_type": "code",
        "cellView": "form",
        "colab": {}
      },
      "source": [
        "#@title Guardar archivo \n",
        "\"\"\"import sys\n",
        "if 'google.colab' in sys.modules:\n",
        "  from google.colab import auth as google_auth\n",
        "  google_auth.authenticate_user()\"\"\"\n",
        "\n",
        "#archivo=path+\"ARQ_ImagenesTF.json\"\n",
        "archivo=path+\"ARQ_ImagenesTF\"\n",
        "modelo_json = modelo.to_json()\n",
        "with open(\"{}.json\".format(archivo), \"w\") as json_file:\n",
        "    json_file.write(modelo_json)\n",
        "print(\"Archivo creado (Arquitectura): {}.json\".format(archivo))\n",
        "\n",
        "#Guardar los pesos de la Red Neuronal\n",
        "modelo.save_weights(\"{}_pesos.h5\".format(archivo))\n",
        "print(\"Archivo creado (Weights): {}_pesos.h5\".format(archivo))"
      ],
      "execution_count": null,
      "outputs": []
    },
    {
      "cell_type": "markdown",
      "metadata": {
        "id": "AoarivRPn_eM",
        "colab_type": "text"
      },
      "source": [
        "# Aprendizaje por Transferencia \n"
      ]
    },
    {
      "cell_type": "code",
      "metadata": {
        "id": "NomQfC_foEhG",
        "colab_type": "code",
        "cellView": "form",
        "colab": {}
      },
      "source": [
        "#@title Cargar Dataset\n",
        "!wget --no-check-certificate \\\n",
        "    https://storage.googleapis.com/mledu-datasets/cats_and_dogs_filtered.zip \\\n",
        "    -O ./cats_and_dogs_filtered.zip\n",
        "\n",
        "#DESCOMPRIMIR DATASET \n",
        "dataset_path = \"./cats_and_dogs_filtered.zip\"\n",
        "zip_object = zipfile.ZipFile(file=dataset_path, mode=\"r\")\n",
        "zip_object.extractall(\"./\")\n",
        "zip_object.close()\n",
        "print(\"Archivos cargados con exito \")\n"
      ],
      "execution_count": null,
      "outputs": []
    },
    {
      "cell_type": "code",
      "metadata": {
        "id": "SKCDrvOYoEdL",
        "colab_type": "code",
        "cellView": "form",
        "colab": {}
      },
      "source": [
        "#@title Redimensionar los datos \n",
        "#DIRECTORIO DE LOS DATOS \n",
        "dataset_path_new = \"./cats_and_dogs_filtered/\"\n",
        "train_dir = os.path.join(dataset_path_new, \"train\")\n",
        "validation_dir = os.path.join(dataset_path_new, \"validation\")\n",
        "\n",
        "#ESCALAR LAS IMAGENES \n",
        "data_gen_train = ImageDataGenerator(rescale=1/255.)\n",
        "data_gen_valid = ImageDataGenerator(rescale=1/255.)\n",
        "\n",
        "#ESTANDARIZAR TAMAÑO DE LAS IMAGENES \n",
        "train_generator = data_gen_train.flow_from_directory(\n",
        "    train_dir, target_size=(128,128), batch_size=128, class_mode=\"binary\")\n",
        "\n",
        "valid_generator = data_gen_valid.flow_from_directory(\n",
        "    validation_dir,target_size=(128,128), batch_size=128, class_mode=\"binary\")"
      ],
      "execution_count": null,
      "outputs": []
    },
    {
      "cell_type": "code",
      "metadata": {
        "id": "wddGF3u_uO5I",
        "colab_type": "code",
        "cellView": "form",
        "colab": {}
      },
      "source": [
        "#@title Modificar Arquitectura Base Red Neuronal\n",
        "#CARGAR MODELO BASE \n",
        "tamanio_imagen = (128, 128, 3)\n",
        "modelo_base = tf.keras.applications.MobileNetV2(\n",
        "    input_shape=tamanio_imagen, include_top=False, weights=\"imagenet\")\n",
        "\n",
        "#DEFINIR CAPAS QUE SE VAN AGREGAR AL MODELO BASE\n",
        "modelo_base.trainable = False  #Congelar modelo\n",
        "capa_pooling = tf.keras.layers.GlobalAveragePooling2D()(modelo_base.output) #Agregamos capa AveragePooling \n",
        "capa_salida = tf.keras.layers.Dense(units=1, activation='sigmoid')(capa_pooling)\n",
        "\n",
        "#AGREGAR CAPAS AL MODELO BASE\n",
        "modelo = tf.keras.models.Model(inputs=modelo_base.input, outputs=capa_salida)\n",
        "modelo.compile(optimizer=tf.keras.optimizers.RMSprop(lr=0.0001), \n",
        "              loss=\"binary_crossentropy\", metrics=[\"accuracy\"])\n",
        "\n",
        "modelo.summary() #Resumen de la nueva arquitectura Red Neuronal  "
      ],
      "execution_count": null,
      "outputs": []
    },
    {
      "cell_type": "code",
      "metadata": {
        "id": "kaEFeI8NxNs1",
        "colab_type": "code",
        "cellView": "form",
        "colab": {}
      },
      "source": [
        "#@title Entrenar a la Red Neuronal\n",
        "Entrenamiento =  15#@param {type:\"number\"}\n",
        "\n",
        "modelo.fit(train_generator, \n",
        "                    epochs=Entrenamiento, validation_data=valid_generator)\n",
        "\n",
        "\n",
        "#GRAFICO RESULTADOS \n",
        "plt.figure(figsize=(10,6), facecolor=\"#E8E1E0\")\n",
        "plt.axes(facecolor='#E8E1E0') \n",
        "plt.plot(modelo.history.history['accuracy'])  \n",
        "plt.plot(modelo.history.history[\"val_accuracy\"],'g')\n",
        "plt.xticks(np.arange(0, 6)) \n",
        "plt.xticks(np.arange(0, Entrenamiento+1, 1)) \n",
        "plt.ylabel(\"Exactitud\")  \n",
        "plt.title(\"Resultados entrenamiento\")  \n",
        "plt.grid(color='white')\n",
        "plt.legend(['Imagenes Entrenamiento','Imagenes Test'])\n"
      ],
      "execution_count": null,
      "outputs": []
    },
    {
      "cell_type": "code",
      "metadata": {
        "id": "6ZIem4ZSyOhX",
        "colab_type": "code",
        "cellView": "form",
        "colab": {}
      },
      "source": [
        "#@title Resultados imagenes Test \n",
        "valid_loss, exactitud_test = modelo.evaluate(valid_generator)\n",
        "print(\"El modelo tiene una exactitud del {:,.2f}% con las imagenes de prueba \".format(exactitud_test*100) )"
      ],
      "execution_count": null,
      "outputs": []
    },
    {
      "cell_type": "markdown",
      "metadata": {
        "id": "tcLfmaedKr_w",
        "colab_type": "text"
      },
      "source": [
        "**Aplicar Fine Tunning al Modelo**"
      ]
    },
    {
      "cell_type": "code",
      "metadata": {
        "id": "nrDewMoy45C7",
        "colab_type": "code",
        "cellView": "form",
        "colab": {}
      },
      "source": [
        "#@title Desabilitar y mostrar numero de capas del modelo\n",
        "# Se desabilita el todo el modelo base para poder ser modificado\n",
        "modelo_base.trainable = True\n",
        "print(\"Number of layersin the base model: {}\".format(\n",
        "    len(modelo_base.layers)))\n"
      ],
      "execution_count": null,
      "outputs": []
    },
    {
      "cell_type": "code",
      "metadata": {
        "id": "KVIbUwUnLBhg",
        "colab_type": "code",
        "cellView": "form",
        "colab": {
          "base_uri": "https://localhost:8080/",
          "height": 34
        },
        "outputId": "df02460b-dce9-4d15-9778-8116ba37d78e"
      },
      "source": [
        "#@title Congelar Capas \n",
        "capas_congelar = 100 #@param {type:\"number\"}\n",
        "for layer in modelo_base.layers[:capas_congelar]:\n",
        "    layer.trainable = False\n",
        "print(\"Se congelaron las primeras {} capas del modelo base\".format(capas_congelar) )"
      ],
      "execution_count": null,
      "outputs": [
        {
          "output_type": "stream",
          "text": [
            "Se congelaron las primeras 100 capas del modelo base\n"
          ],
          "name": "stdout"
        }
      ]
    },
    {
      "cell_type": "code",
      "metadata": {
        "id": "hdgG-4KALW3R",
        "colab_type": "code",
        "cellView": "form",
        "colab": {}
      },
      "source": [
        "#@title Congelar Capas \n",
        "Entrenamiento_ft =  2#@param {type:\"number\"}\n",
        "\n",
        "modelo.compile(optimizer=tf.keras.optimizers.RMSprop(lr=0.0001),\n",
        "              loss='binary_crossentropy',\n",
        "              metrics=['accuracy'])\n",
        "\n",
        "modelo.fit(train_generator,  \n",
        "                    epochs=Entrenamiento_ft, \n",
        "                    validation_data=valid_generator)"
      ],
      "execution_count": null,
      "outputs": []
    },
    {
      "cell_type": "code",
      "metadata": {
        "id": "ndm-aRBUL_Gx",
        "colab_type": "code",
        "cellView": "form",
        "colab": {}
      },
      "source": [
        "#@title Resultados imagenes Test - Fine Tunning\n",
        "valid_loss, exactitud_test = modelo.evaluate(valid_generator)\n",
        "print(\"El modelo tiene una exactitud del {:,.2f}% con las imagenes de prueba \".format(exactitud_test*100) )"
      ],
      "execution_count": null,
      "outputs": []
    }
  ]
}